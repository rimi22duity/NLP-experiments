{
  "nbformat": 4,
  "nbformat_minor": 0,
  "metadata": {
    "colab": {
      "name": "text-pre-processing.ipynb",
      "provenance": [],
      "authorship_tag": "ABX9TyMIF1n0l3vFQCM0lfUblUjh",
      "include_colab_link": true
    },
    "kernelspec": {
      "name": "python3",
      "display_name": "Python 3"
    },
    "language_info": {
      "name": "python"
    }
  },
  "cells": [
    {
      "cell_type": "markdown",
      "metadata": {
        "id": "view-in-github",
        "colab_type": "text"
      },
      "source": [
        "<a href=\"https://colab.research.google.com/github/rimi22duity/NLP-experiments/blob/main/text_pre_processing.ipynb\" target=\"_parent\"><img src=\"https://colab.research.google.com/assets/colab-badge.svg\" alt=\"Open In Colab\"/></a>"
      ]
    },
    {
      "cell_type": "markdown",
      "metadata": {
        "id": "pFEgiqorKHiN"
      },
      "source": [
        "#***Text Pre-Processing***"
      ]
    },
    {
      "cell_type": "markdown",
      "metadata": {
        "id": "X0fJdo7zEDXZ"
      },
      "source": [
        "##**Tokenizing**"
      ]
    },
    {
      "cell_type": "code",
      "metadata": {
        "id": "MFHFGojW-PIM"
      },
      "source": [
        "import nltk\n",
        "text = \"This is Rimi's text, isn't it? Tell me How's Life?\""
      ],
      "execution_count": 22,
      "outputs": []
    },
    {
      "cell_type": "code",
      "metadata": {
        "colab": {
          "base_uri": "https://localhost:8080/"
        },
        "id": "XUc3QyxT-n6w",
        "outputId": "6dbaa289-89b5-4e9d-f1ae-39580f5a2d0f"
      },
      "source": [
        "tokeneizer = nltk.tokenize.WhitespaceTokenizer()\n",
        "tokeneizer.tokenize(text)"
      ],
      "execution_count": 23,
      "outputs": [
        {
          "output_type": "execute_result",
          "data": {
            "text/plain": [
              "['This',\n",
              " 'is',\n",
              " \"Rimi's\",\n",
              " 'text,',\n",
              " \"isn't\",\n",
              " 'it?',\n",
              " 'Tell',\n",
              " 'me',\n",
              " \"How's\",\n",
              " 'Life?']"
            ]
          },
          "metadata": {
            "tags": []
          },
          "execution_count": 23
        }
      ]
    },
    {
      "cell_type": "code",
      "metadata": {
        "colab": {
          "base_uri": "https://localhost:8080/"
        },
        "id": "37oCSEIl_PIa",
        "outputId": "f7f5196c-b5c1-4162-d5aa-22ce97c3cf3d"
      },
      "source": [
        "tokeneizer = nltk.tokenize.TreebankWordTokenizer()\n",
        "tokeneizer.tokenize(text)"
      ],
      "execution_count": 24,
      "outputs": [
        {
          "output_type": "execute_result",
          "data": {
            "text/plain": [
              "['This',\n",
              " 'is',\n",
              " 'Rimi',\n",
              " \"'s\",\n",
              " 'text',\n",
              " ',',\n",
              " 'is',\n",
              " \"n't\",\n",
              " 'it',\n",
              " '?',\n",
              " 'Tell',\n",
              " 'me',\n",
              " 'How',\n",
              " \"'s\",\n",
              " 'Life',\n",
              " '?']"
            ]
          },
          "metadata": {
            "tags": []
          },
          "execution_count": 24
        }
      ]
    },
    {
      "cell_type": "code",
      "metadata": {
        "colab": {
          "base_uri": "https://localhost:8080/"
        },
        "id": "-LcsJLaT_hv9",
        "outputId": "c585b69c-24f6-4909-ba52-e25e056fa7a6"
      },
      "source": [
        "tokeneizer = nltk.tokenize.WordPunctTokenizer()\n",
        "tokeneizer.tokenize(text)"
      ],
      "execution_count": 25,
      "outputs": [
        {
          "output_type": "execute_result",
          "data": {
            "text/plain": [
              "['This',\n",
              " 'is',\n",
              " 'Rimi',\n",
              " \"'\",\n",
              " 's',\n",
              " 'text',\n",
              " ',',\n",
              " 'isn',\n",
              " \"'\",\n",
              " 't',\n",
              " 'it',\n",
              " '?',\n",
              " 'Tell',\n",
              " 'me',\n",
              " 'How',\n",
              " \"'\",\n",
              " 's',\n",
              " 'Life',\n",
              " '?']"
            ]
          },
          "metadata": {
            "tags": []
          },
          "execution_count": 25
        }
      ]
    },
    {
      "cell_type": "markdown",
      "metadata": {
        "id": "hilBtFruD1_e"
      },
      "source": [
        "##**STEMMING**\n"
      ]
    },
    {
      "cell_type": "code",
      "metadata": {
        "id": "IVnkHzp7EQNV"
      },
      "source": [
        "tokenizer = nltk.tokenize.TreebankWordTokenizer()\n",
        "newText = \"feet cats wolves talked\"\n",
        "tokens = tokeneizer.tokenize(newText)"
      ],
      "execution_count": 27,
      "outputs": []
    },
    {
      "cell_type": "code",
      "metadata": {
        "colab": {
          "base_uri": "https://localhost:8080/"
        },
        "id": "lvxxu5evEmYu",
        "outputId": "b2d855f8-cff1-41f2-d4c7-58fdb1ed4c42"
      },
      "source": [
        "stemmer = nltk.stem.PorterStemmer()\n",
        "for token in tokens:\n",
        "  t = stemmer.stem(token)\n",
        "  print(t)"
      ],
      "execution_count": 28,
      "outputs": [
        {
          "output_type": "stream",
          "text": [
            "feet\n",
            "cat\n",
            "wolv\n",
            "talk\n"
          ],
          "name": "stdout"
        }
      ]
    },
    {
      "cell_type": "markdown",
      "metadata": {
        "id": "VzWy9XdCKdpk"
      },
      "source": [
        "##**Lemmatization**"
      ]
    },
    {
      "cell_type": "code",
      "metadata": {
        "colab": {
          "base_uri": "https://localhost:8080/"
        },
        "id": "TDDfXFkKKaeE",
        "outputId": "e8a6d379-f245-48dc-8d99-c843c0151273"
      },
      "source": [
        "nltk.download('wordnet')"
      ],
      "execution_count": 30,
      "outputs": [
        {
          "output_type": "stream",
          "text": [
            "[nltk_data] Downloading package wordnet to /root/nltk_data...\n",
            "[nltk_data]   Package wordnet is already up-to-date!\n"
          ],
          "name": "stdout"
        },
        {
          "output_type": "execute_result",
          "data": {
            "text/plain": [
              "True"
            ]
          },
          "metadata": {
            "tags": []
          },
          "execution_count": 30
        }
      ]
    },
    {
      "cell_type": "code",
      "metadata": {
        "colab": {
          "base_uri": "https://localhost:8080/"
        },
        "id": "qdVIjbOLF1Zc",
        "outputId": "1f83aa86-0bc6-48a2-deb0-7af76f1b06f2"
      },
      "source": [
        "lemmatizer = WordNetLemmatizer()\n",
        "for token in tokens:\n",
        "  print(lemmatizer.lemmatize(token))"
      ],
      "execution_count": 31,
      "outputs": [
        {
          "output_type": "stream",
          "text": [
            "foot\n",
            "cat\n",
            "wolf\n",
            "talked\n"
          ],
          "name": "stdout"
        }
      ]
    },
    {
      "cell_type": "markdown",
      "metadata": {
        "id": "Fev4ZeEXKqD6"
      },
      "source": [
        "##***More Normalization***"
      ]
    },
    {
      "cell_type": "code",
      "metadata": {
        "colab": {
          "base_uri": "https://localhost:8080/"
        },
        "id": "lL-otEoOKwgh",
        "outputId": "fffa91e8-a174-4743-a71b-4d462a5bce2a"
      },
      "source": [
        "nltk.download('punkt')"
      ],
      "execution_count": 38,
      "outputs": [
        {
          "output_type": "stream",
          "text": [
            "[nltk_data] Downloading package punkt to /root/nltk_data...\n",
            "[nltk_data]   Package punkt is already up-to-date!\n"
          ],
          "name": "stdout"
        },
        {
          "output_type": "execute_result",
          "data": {
            "text/plain": [
              "True"
            ]
          },
          "metadata": {
            "tags": []
          },
          "execution_count": 38
        }
      ]
    },
    {
      "cell_type": "code",
      "metadata": {
        "id": "vlq-l2TqLRXx"
      },
      "source": [
        "text = \"I think that john stone is a nice guy. there is a stone on the grass. i'm fat. are you welcome and smart in london? is this martin's dog?\""
      ],
      "execution_count": 39,
      "outputs": []
    },
    {
      "cell_type": "code",
      "metadata": {
        "id": "M9c3krQoLSpa"
      },
      "source": [
        "#this is a function that returns an array of sentences\n",
        "#from a paragraph\n",
        "def segment_into_sentences(input_text):\n",
        "    sentences = nltk.tokenize.sent_tokenize(input_text, language='english')\n",
        "    return sentences\n"
      ],
      "execution_count": 40,
      "outputs": []
    },
    {
      "cell_type": "code",
      "metadata": {
        "id": "T-ZjpV9FLt0o"
      },
      "source": [
        "sentences = segment_into_sentences(text)"
      ],
      "execution_count": 43,
      "outputs": []
    },
    {
      "cell_type": "code",
      "metadata": {
        "id": "p-iXFKsuMmNz"
      },
      "source": [
        "#this function takes an array of sentence as input\n",
        "# capitalizes the first letter of a sentences\n",
        "#returns the new sentence array\n",
        "def capitalize_starting_of_sentence(sentences):\n",
        "   newSentences = [s.capitalize() for s in sentences]\n",
        "   return newSentences\n"
      ],
      "execution_count": 44,
      "outputs": []
    },
    {
      "cell_type": "code",
      "metadata": {
        "colab": {
          "base_uri": "https://localhost:8080/"
        },
        "id": "9w-z4sSbNa7O",
        "outputId": "04bcb306-2a30-43c2-d98e-6ad9fe8bbadb"
      },
      "source": [
        "capitalize_starting_of_sentence(sentences)"
      ],
      "execution_count": 45,
      "outputs": [
        {
          "output_type": "execute_result",
          "data": {
            "text/plain": [
              "['I think that john stone is a nice guy.',\n",
              " 'There is a stone on the grass.',\n",
              " \"I'm fat.\",\n",
              " 'Are you welcome and smart in london?',\n",
              " \"Is this martin's dog?\"]"
            ]
          },
          "metadata": {
            "tags": []
          },
          "execution_count": 45
        }
      ]
    }
  ]
}