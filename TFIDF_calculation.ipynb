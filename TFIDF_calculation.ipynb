{
  "nbformat": 4,
  "nbformat_minor": 0,
  "metadata": {
    "colab": {
      "name": "TFIDF calculation.ipynb",
      "provenance": [],
      "collapsed_sections": []
    },
    "kernelspec": {
      "name": "python3",
      "display_name": "Python 3"
    },
    "language_info": {
      "name": "python"
    }
  },
  "cells": [
    {
      "cell_type": "markdown",
      "metadata": {
        "id": "drvgg-Q-5Vuv"
      },
      "source": [
        "# **References:**\n",
        "* [TF-IDF](http://www.tfidf.com/)\n",
        "* [Sklearn TF-IDF library](https://scikit-learn.org/stable/modules/generated/sklearn.feature_extraction.text.TfidfVectorizer.html)\n",
        "* [How to print TF-IDF scores matrix in sklearn in python - StackOverflow](https://stackoverflow.com/questions/46597476/how-to-print-tf-idf-scores-matrix-in-sklearn-in-python/46805428)"
      ]
    },
    {
      "cell_type": "code",
      "metadata": {
        "id": "PtiD7rk14t1Y"
      },
      "source": [
        "from sklearn.feature_extraction.text import TfidfVectorizer\n",
        "import pandas as pd"
      ],
      "execution_count": 1,
      "outputs": []
    },
    {
      "cell_type": "code",
      "metadata": {
        "id": "gW2qo4ym6vRn"
      },
      "source": [
        "question = 'Explain CRF'\n",
        "searchTerms = ['sequence', 'sequence modelling', 'conditional random fields', 'probabilistic', 'crf', 'model', 'supervised', 'statistical']\n",
        "answers = {1:'Conditional random fields (CRFs) are a class of statistical modeling methods often applied in pattern recognition and machine learning and used for structured prediction.',\n",
        "2: 'Conditional Random Fields (CRF) is a sequence modelling algorithm. This not only assumes that features are dependent on each other, but also considers the future observations while learning a pattern.',\n",
        "3: 'Conditional Random Fields or CRFs are a type of probabilistic graph model that take neighboring sample context into account for tasks like classification.',\n",
        "4: 'Conditional Random Fields is a discriminative undirected probabilistic graphical model, a sort of Markov random field.',\n",
        "5: 'CRF is a supervised learning method',\n",
        "6: 'CRF is a probabilistic discriminative model that has a wide range of applications in Natural Language Processing, Computer Vision and Bioinformatics.'}\n",
        "\n",
        "tfidf_vectorizer = TfidfVectorizer(vocabulary=searchTerms,ngram_range=(1,3))\n",
        "X = tfidf_vectorizer.fit_transform(answers.values())"
      ],
      "execution_count": 2,
      "outputs": []
    },
    {
      "cell_type": "code",
      "metadata": {
        "colab": {
          "base_uri": "https://localhost:8080/"
        },
        "id": "Iq1iXX4hBte5",
        "outputId": "4d955d22-50ba-4356-fe43-a1f3ad0d665d"
      },
      "source": [
        "feature_names = tfidf_vectorizer.get_feature_names()\n",
        "answers_index = [n for n in answers]\n",
        "\n",
        "df = pd.DataFrame(X.T.todense(), index=feature_names, columns=answers_index)\n",
        "print(df)"
      ],
      "execution_count": 3,
      "outputs": [
        {
          "output_type": "stream",
          "name": "stdout",
          "text": [
            "                                  1         2  ...         5        6\n",
            "sequence                   0.000000  0.594307  ...  0.000000  0.00000\n",
            "sequence modelling         0.000000  0.594307  ...  0.000000  0.00000\n",
            "conditional random fields  0.510227  0.352578  ...  0.000000  0.00000\n",
            "probabilistic              0.000000  0.000000  ...  0.000000  0.57735\n",
            "crf                        0.000000  0.411446  ...  0.569213  0.57735\n",
            "model                      0.000000  0.000000  ...  0.000000  0.57735\n",
            "supervised                 0.000000  0.000000  ...  0.822190  0.00000\n",
            "statistical                0.860040  0.000000  ...  0.000000  0.00000\n",
            "\n",
            "[8 rows x 6 columns]\n"
          ]
        }
      ]
    }
  ]
}