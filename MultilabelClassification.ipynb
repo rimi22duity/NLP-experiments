{
  "nbformat": 4,
  "nbformat_minor": 0,
  "metadata": {
    "colab": {
      "name": "MultilabelClassification.ipynb",
      "provenance": [],
      "collapsed_sections": [
        "yQC0mDRHk6nF",
        "3SwRRXZvn-f5",
        "FqFl_aB3phER",
        "IdE6OB7C9end",
        "qORcuxNdAq8x",
        "tXS08f82d191",
        "H4H8RB3EiGXw"
      ],
      "mount_file_id": "1_L1aCQIRACc29r2g-opUZhASyAT4nXxz",
      "authorship_tag": "ABX9TyN9QTH68N5VLXbJjT61LfC+",
      "include_colab_link": true
    },
    "kernelspec": {
      "name": "python3",
      "display_name": "Python 3"
    },
    "language_info": {
      "name": "python"
    }
  },
  "cells": [
    {
      "cell_type": "markdown",
      "metadata": {
        "id": "view-in-github",
        "colab_type": "text"
      },
      "source": [
        "<a href=\"https://colab.research.google.com/github/rimi22duity/NLP-experiments/blob/main/MultilabelClassification.ipynb\" target=\"_parent\"><img src=\"https://colab.research.google.com/assets/colab-badge.svg\" alt=\"Open In Colab\"/></a>"
      ]
    },
    {
      "cell_type": "markdown",
      "metadata": {
        "id": "CLA1UnTahcxS"
      },
      "source": [
        "\n",
        "##**Predict tags on StackOverflow with linear models**\n",
        "how to predict tags for posts from StackOverflow. To solve this using **multilabel classification approach**.\n",
        "\n",
        "**Libraries**\n",
        "In this task, the following libraries are needed:\n",
        "\n",
        "*   Numpy — a package for scientific computing.\n",
        "*   Pandas — a library providing high-performance, easy-to-use data structures and data analysis tools for the Python\n",
        "*   scikit-learn — a tool for data mining and data analysis.\n",
        "*   NLTK — a platform to work with natural language.\n",
        "\n"
      ]
    },
    {
      "cell_type": "markdown",
      "metadata": {
        "id": "dSybqzY1iQpr"
      },
      "source": [
        "#**Data**"
      ]
    },
    {
      "cell_type": "code",
      "metadata": {
        "colab": {
          "base_uri": "https://localhost:8080/"
        },
        "id": "4xoIk6eniXPM",
        "outputId": "b5136bf8-d090-4542-c616-dfbbb072c30f"
      },
      "source": [
        "try:\n",
        "    import google.colab\n",
        "    IN_COLAB = True\n",
        "except:\n",
        "    IN_COLAB = False\n",
        "\n",
        "if IN_COLAB:\n",
        "    ! wget https://raw.githubusercontent.com/hse-aml/natural-language-processing/master/setup_google_colab.py -O setup_google_colab.py\n",
        "    import setup_google_colab\n",
        "    setup_google_colab.setup_week1() \n",
        "    \n",
        "import sys\n",
        "sys.path.append(\"..\")\n",
        "from common.download_utils import download_week1_resources\n",
        "\n",
        "download_week1_resources()"
      ],
      "execution_count": null,
      "outputs": [
        {
          "output_type": "stream",
          "text": [
            "--2021-04-09 22:02:04--  https://raw.githubusercontent.com/hse-aml/natural-language-processing/master/setup_google_colab.py\n",
            "Resolving raw.githubusercontent.com (raw.githubusercontent.com)... 185.199.111.133, 185.199.110.133, 185.199.108.133, ...\n",
            "Connecting to raw.githubusercontent.com (raw.githubusercontent.com)|185.199.111.133|:443... connected.\n",
            "HTTP request sent, awaiting response... 200 OK\n",
            "Length: 1939 (1.9K) [text/plain]\n",
            "Saving to: ‘setup_google_colab.py’\n",
            "\n",
            "\rsetup_google_colab.   0%[                    ]       0  --.-KB/s               \rsetup_google_colab. 100%[===================>]   1.89K  --.-KB/s    in 0s      \n",
            "\n",
            "2021-04-09 22:02:04 (19.6 MB/s) - ‘setup_google_colab.py’ saved [1939/1939]\n",
            "\n",
            "File data/train.tsv is already downloaded.\n",
            "File data/validation.tsv is already downloaded.\n",
            "File data/test.tsv is already downloaded.\n",
            "File data/text_prepare_tests.tsv is already downloaded.\n"
          ],
          "name": "stdout"
        }
      ]
    },
    {
      "cell_type": "markdown",
      "metadata": {
        "id": "8pUoB2lFit_-"
      },
      "source": [
        "#**Grading**\n",
        "\n",
        "For Coursera "
      ]
    },
    {
      "cell_type": "code",
      "metadata": {
        "id": "6aS1oOSJi6zG"
      },
      "source": [
        "from grader import Grader"
      ],
      "execution_count": null,
      "outputs": []
    },
    {
      "cell_type": "code",
      "metadata": {
        "id": "Me_i9dY2jBEu"
      },
      "source": [
        "grader = Grader()"
      ],
      "execution_count": null,
      "outputs": []
    },
    {
      "cell_type": "markdown",
      "metadata": {
        "id": "wGAnBX9EjJn_"
      },
      "source": [
        "#**Text preprocessing**\n",
        "Need to use stop words. It can be downloaded from nltk library as follows:"
      ]
    },
    {
      "cell_type": "code",
      "metadata": {
        "colab": {
          "base_uri": "https://localhost:8080/"
        },
        "id": "9VdCWxuSjbaR",
        "outputId": "6b56c923-88b4-4581-d3a0-7e36b1e3d91f"
      },
      "source": [
        "import nltk\n",
        "nltk.download('stopwords')\n",
        "from nltk.corpus import stopwords"
      ],
      "execution_count": null,
      "outputs": [
        {
          "output_type": "stream",
          "text": [
            "[nltk_data] Downloading package stopwords to /root/nltk_data...\n",
            "[nltk_data]   Package stopwords is already up-to-date!\n"
          ],
          "name": "stdout"
        }
      ]
    },
    {
      "cell_type": "markdown",
      "metadata": {
        "id": "NX9kWMuDjpyq"
      },
      "source": [
        "In this task I need to deal with a dataset of post titles from StackOverflow. A split to 3 sets of data is provided: train, validation and test. All corpora (except for test) contain titles of the posts and corresponding tags (100 tags are available). The test set is provided for Coursera's grading and doesn't contain answers. Upload the corpora using pandas and look at the data:"
      ]
    },
    {
      "cell_type": "code",
      "metadata": {
        "id": "tXEU-aSNj9SX"
      },
      "source": [
        "from ast import literal_eval\n",
        "import pandas as pd\n",
        "import numpy as np"
      ],
      "execution_count": null,
      "outputs": []
    },
    {
      "cell_type": "code",
      "metadata": {
        "id": "utyYOszykES_"
      },
      "source": [
        "def read_data(filename):\n",
        "    data = pd.read_csv(filename, sep='\\t')\n",
        "    data['tags'] = data['tags'].apply(literal_eval)\n",
        "    return data"
      ],
      "execution_count": null,
      "outputs": []
    },
    {
      "cell_type": "code",
      "metadata": {
        "id": "UxwVIP50kF60"
      },
      "source": [
        "train = read_data('data/train.tsv')\n",
        "validation = read_data('data/validation.tsv')\n",
        "test = pd.read_csv('data/test.tsv', sep='\\t')"
      ],
      "execution_count": null,
      "outputs": []
    },
    {
      "cell_type": "code",
      "metadata": {
        "colab": {
          "base_uri": "https://localhost:8080/",
          "height": 35
        },
        "id": "I8XB5Ggi47-S",
        "outputId": "34707a67-5eeb-4f2a-d539-3c0f07097ddb"
      },
      "source": [
        "import shutil\n",
        "\n",
        "original_path_train = r'data/train.tsv'\n",
        "target_path_train = r'/content/drive/MyDrive/Colab Notebooks/NLP Practice/data/train.tsv'\n",
        "original_path_validation = r'data/validation.tsv'\n",
        "target_path_validation = r'/content/drive/MyDrive/Colab Notebooks/NLP Practice/data/validation.tsv'\n",
        "original_path_test = r'data/test.tsv'\n",
        "target_path_test = r'/content/drive/MyDrive/Colab Notebooks/NLP Practice/data/test.tsv'\n",
        "\n",
        "shutil.copyfile(original_path_train, target_path_train)\n",
        "shutil.copyfile(original_path_validation, target_path_validation)\n",
        "shutil.copyfile(original_path_test, target_path_test)"
      ],
      "execution_count": null,
      "outputs": [
        {
          "output_type": "execute_result",
          "data": {
            "application/vnd.google.colaboratory.intrinsic+json": {
              "type": "string"
            },
            "text/plain": [
              "'/content/drive/MyDrive/Colab Notebooks/NLP Practice/data/test.tsv'"
            ]
          },
          "metadata": {
            "tags": []
          },
          "execution_count": 109
        }
      ]
    },
    {
      "cell_type": "code",
      "metadata": {
        "colab": {
          "base_uri": "https://localhost:8080/"
        },
        "id": "svgTCuC-36pl",
        "outputId": "5759718f-9112-4eb2-c804-2c321d445ad3"
      },
      "source": [
        "from google.colab import drive\n",
        "drive.mount('/content/drive')"
      ],
      "execution_count": null,
      "outputs": [
        {
          "output_type": "stream",
          "text": [
            "Drive already mounted at /content/drive; to attempt to forcibly remount, call drive.mount(\"/content/drive\", force_remount=True).\n"
          ],
          "name": "stdout"
        }
      ]
    },
    {
      "cell_type": "code",
      "metadata": {
        "colab": {
          "base_uri": "https://localhost:8080/",
          "height": 204
        },
        "id": "F_MfYbRhkMUU",
        "outputId": "835b72e8-10c9-46f3-b251-6e8d3866619b"
      },
      "source": [
        "train.head()"
      ],
      "execution_count": null,
      "outputs": [
        {
          "output_type": "execute_result",
          "data": {
            "text/html": [
              "<div>\n",
              "<style scoped>\n",
              "    .dataframe tbody tr th:only-of-type {\n",
              "        vertical-align: middle;\n",
              "    }\n",
              "\n",
              "    .dataframe tbody tr th {\n",
              "        vertical-align: top;\n",
              "    }\n",
              "\n",
              "    .dataframe thead th {\n",
              "        text-align: right;\n",
              "    }\n",
              "</style>\n",
              "<table border=\"1\" class=\"dataframe\">\n",
              "  <thead>\n",
              "    <tr style=\"text-align: right;\">\n",
              "      <th></th>\n",
              "      <th>title</th>\n",
              "      <th>tags</th>\n",
              "    </tr>\n",
              "  </thead>\n",
              "  <tbody>\n",
              "    <tr>\n",
              "      <th>0</th>\n",
              "      <td>How to draw a stacked dotplot in R?</td>\n",
              "      <td>[r]</td>\n",
              "    </tr>\n",
              "    <tr>\n",
              "      <th>1</th>\n",
              "      <td>mysql select all records where a datetime fiel...</td>\n",
              "      <td>[php, mysql]</td>\n",
              "    </tr>\n",
              "    <tr>\n",
              "      <th>2</th>\n",
              "      <td>How to terminate windows phone 8.1 app</td>\n",
              "      <td>[c#]</td>\n",
              "    </tr>\n",
              "    <tr>\n",
              "      <th>3</th>\n",
              "      <td>get current time in a specific country via jquery</td>\n",
              "      <td>[javascript, jquery]</td>\n",
              "    </tr>\n",
              "    <tr>\n",
              "      <th>4</th>\n",
              "      <td>Configuring Tomcat to Use SSL</td>\n",
              "      <td>[java]</td>\n",
              "    </tr>\n",
              "  </tbody>\n",
              "</table>\n",
              "</div>"
            ],
            "text/plain": [
              "                                               title                  tags\n",
              "0                How to draw a stacked dotplot in R?                   [r]\n",
              "1  mysql select all records where a datetime fiel...          [php, mysql]\n",
              "2             How to terminate windows phone 8.1 app                  [c#]\n",
              "3  get current time in a specific country via jquery  [javascript, jquery]\n",
              "4                      Configuring Tomcat to Use SSL                [java]"
            ]
          },
          "metadata": {
            "tags": []
          },
          "execution_count": 334
        }
      ]
    },
    {
      "cell_type": "code",
      "metadata": {
        "colab": {
          "base_uri": "https://localhost:8080/"
        },
        "id": "iUx3asMlWOEo",
        "outputId": "1b677309-9d2d-42df-a3cd-a46bbf7bb385"
      },
      "source": [
        "type(train['tags'].iloc[0])"
      ],
      "execution_count": null,
      "outputs": [
        {
          "output_type": "execute_result",
          "data": {
            "text/plain": [
              "list"
            ]
          },
          "metadata": {
            "tags": []
          },
          "execution_count": 336
        }
      ]
    },
    {
      "cell_type": "markdown",
      "metadata": {
        "id": "aP4FQFy-kZFo"
      },
      "source": [
        "It could be noticed that a number of tags for a post is not fixed and could be as many as necessary.\n",
        "\n",
        "For a more comfortable usage, initialize X_train, X_val, X_test, y_train, y_val."
      ]
    },
    {
      "cell_type": "code",
      "metadata": {
        "id": "rCcC-EzXkaak"
      },
      "source": [
        "X_train, y_train = train['title'].values, train['tags'].values\n",
        "X_val, y_val = validation['title'].values, validation['tags'].values\n",
        "X_test = test['title'].values"
      ],
      "execution_count": null,
      "outputs": []
    },
    {
      "cell_type": "code",
      "metadata": {
        "colab": {
          "base_uri": "https://localhost:8080/"
        },
        "id": "PQAvcEcdm8HB",
        "outputId": "1d67b420-5b23-4254-fb3e-ccdccfca2882"
      },
      "source": [
        "X_train[:36]"
      ],
      "execution_count": null,
      "outputs": [
        {
          "output_type": "execute_result",
          "data": {
            "text/plain": [
              "['draw stacked dotplot r',\n",
              " 'mysql select records datetime field less specified value',\n",
              " 'terminate windows phone 81 app',\n",
              " 'get current time specific country via jquery',\n",
              " 'configuring tomcat use ssl',\n",
              " 'awesome nested set plugin add new children tree various levels',\n",
              " 'create map json response ruby rails 3',\n",
              " 'rspec test method called',\n",
              " 'springboot catalina lifecycle exception',\n",
              " 'import data excel mysql database using php',\n",
              " 'obtaining object javalangclasst object parameterized type without constructing class q_uestion',\n",
              " 'ipad selecting text inside text input tap',\n",
              " 'jquerys function object',\n",
              " 'eclipse c++ mingw lauch program terminated',\n",
              " 'javascript call one prototype method another prototype method',\n",
              " 'get intersection list sets',\n",
              " 'longer able hide keyboard viewwilldisappear ios7',\n",
              " 'fetch key json swift',\n",
              " 'change pivot header template windows phone 8',\n",
              " 'connectionstring encryption',\n",
              " 'let ui refresh long running ui operation',\n",
              " 'better way execute ruby file using python get ruby console output ruby file run python',\n",
              " 'make 2 thumbnails codeigniter',\n",
              " 'java character vs char memory usage',\n",
              " 'bootstrap modal close enter key press',\n",
              " 'linq query group retrieving percentage',\n",
              " 'label field issue openerp',\n",
              " 'keep 2 objects view time scaling field view zy axis',\n",
              " 'attributeerror nonetype object attribute split',\n",
              " 'append mat file using scipyiosavemat',\n",
              " 'jquery replace onclick hcommandlink',\n",
              " 'redirect output ruby programme file',\n",
              " 'accesscontrolalloworigin header present requested resource error',\n",
              " 'creating json windows 8 c # using ijsonvalue implicitly convert type string windowsdatajsonijsonvalue',\n",
              " 'django modelform label captialisation',\n",
              " 'showhide div slide javascript without jquery']"
            ]
          },
          "metadata": {
            "tags": []
          },
          "execution_count": 242
        }
      ]
    },
    {
      "cell_type": "markdown",
      "metadata": {
        "id": "RySoxVs_kpuD"
      },
      "source": [
        "One of the most known difficulties when working with natural data is that it's unstructured. To prevent this, data should be prepared first."
      ]
    },
    {
      "cell_type": "markdown",
      "metadata": {
        "id": "yQC0mDRHk6nF"
      },
      "source": [
        "##**Task 1 (TextPrepare).**\n",
        "prepare the data and after that, running the function test_text_prepare to test it on tiny cases"
      ]
    },
    {
      "cell_type": "code",
      "metadata": {
        "colab": {
          "base_uri": "https://localhost:8080/"
        },
        "id": "M51CmYf4lMTm",
        "outputId": "437bf473-98b9-486a-ecac-4ac964d6eced"
      },
      "source": [
        "import re\n",
        "nltk.download('punkt')\n",
        "from nltk.tokenize import word_tokenize"
      ],
      "execution_count": null,
      "outputs": [
        {
          "output_type": "stream",
          "text": [
            "[nltk_data] Downloading package punkt to /root/nltk_data...\n",
            "[nltk_data]   Package punkt is already up-to-date!\n"
          ],
          "name": "stdout"
        }
      ]
    },
    {
      "cell_type": "code",
      "metadata": {
        "id": "MOGF0PU8lPsy"
      },
      "source": [
        "REPLACE_BY_SPACE_RE = re.compile('[/(){}\\[\\]\\|@,;]')\n",
        "BAD_SYMBOLS_RE = re.compile('[^0-9a-z #+_]')\n",
        "STOPWORDS = set(stopwords.words('english'))\n",
        "\n",
        "\n",
        "def text_prepare(text, join_symbol):\n",
        "    \"\"\"\n",
        "        text: a string\n",
        "        \n",
        "        return: modified initial string\n",
        "    \"\"\"\n",
        "    \n",
        "    text = text.lower()\n",
        "    # print(\"After lower casing: \" + text)\n",
        "\n",
        "    text = re.sub(REPLACE_BY_SPACE_RE, '', text)\n",
        "    # print(\"After remplacing space: \" + text)\n",
        "\n",
        "    text = re.sub(BAD_SYMBOLS_RE, '', text)\n",
        "    # print(\"After deleting bad symbles: \" + text)\n",
        "\n",
        "    tokens_without_sw = [word for word in text.split() if not word in STOPWORDS]\n",
        "    text = (\" \").join(tokens_without_sw)\n",
        "    # print(\"After Deleting the Stopwords: \" + text)\n",
        "\n",
        "    if (text.find('c #') != -1):\n",
        "      text = text.replace(\"c #\", \"c#\")\n",
        "      # print(\"After Fixing c# text: \" + text)\n",
        "\n",
        "    return text"
      ],
      "execution_count": null,
      "outputs": []
    },
    {
      "cell_type": "code",
      "metadata": {
        "id": "gi-YnuQZm1ck"
      },
      "source": [
        "def test_text_prepare():\n",
        "    examples = [\"SQL Server - any equivalent of Excel's CHOOSE function?\",\n",
        "                \"How to free c # memory vector<int> * arr?\"]\n",
        "    answers = [\"sql server equivalent excels choose function\", \n",
        "               \"free c# memory vectorint arr\"]\n",
        "    for ex, ans in zip(examples, answers):\n",
        "        if text_prepare(ex, '') != ans:\n",
        "            return \"Wrong answer for the case: '%s'\" % ex\n",
        "    return 'Basic tests are passed.'\n",
        "    "
      ],
      "execution_count": null,
      "outputs": []
    },
    {
      "cell_type": "code",
      "metadata": {
        "colab": {
          "base_uri": "https://localhost:8080/"
        },
        "id": "orfy0nDJnia3",
        "outputId": "afebdbb9-7323-47da-8274-08e2a2c29115"
      },
      "source": [
        "print(test_text_prepare())"
      ],
      "execution_count": null,
      "outputs": [
        {
          "output_type": "stream",
          "text": [
            "Basic tests are passed.\n"
          ],
          "name": "stdout"
        }
      ]
    },
    {
      "cell_type": "markdown",
      "metadata": {
        "id": "oBX4SqjCZILG"
      },
      "source": [
        "Running my implementation for questions from file text_prepare_tests.tsv to earn the points."
      ]
    },
    {
      "cell_type": "code",
      "metadata": {
        "colab": {
          "base_uri": "https://localhost:8080/"
        },
        "id": "0F7y5UnYZMyx",
        "outputId": "1b095acd-dc8b-4a84-8421-bf94ad77a9c7"
      },
      "source": [
        "prepared_questions = []\n",
        "for line in open('data/text_prepare_tests.tsv', encoding='utf-8'):\n",
        "    line = text_prepare(line.strip(), '')\n",
        "    prepared_questions.append(line)\n",
        "text_prepare_results = '\\n'.join(prepared_questions)\n",
        "\n",
        "grader.submit_tag('TextPrepare', text_prepare_results)"
      ],
      "execution_count": null,
      "outputs": [
        {
          "output_type": "stream",
          "text": [
            "Current answer for task TextPrepare is:\n",
            " sqlitephp readonly\n",
            "creating multiple textboxes dynamically\n",
            "self one prefer javascript\n",
            "save php date ...\n"
          ],
          "name": "stdout"
        }
      ]
    },
    {
      "cell_type": "markdown",
      "metadata": {
        "id": "ZneUepL_ZZaC"
      },
      "source": [
        "Now preprocessing the titles using function text_prepare and making sure that the headers don't have bad symbols:"
      ]
    },
    {
      "cell_type": "code",
      "metadata": {
        "colab": {
          "base_uri": "https://localhost:8080/"
        },
        "id": "ZRyNMXDc8y2G",
        "outputId": "26604210-9f68-4c13-8aee-fc18326d6df9"
      },
      "source": [
        "X_train[:36]"
      ],
      "execution_count": null,
      "outputs": [
        {
          "output_type": "execute_result",
          "data": {
            "text/plain": [
              "['draw stacked dotplot r',\n",
              " 'mysql select records datetime field less specified value',\n",
              " 'terminate windows phone 81 app',\n",
              " 'get current time specific country via jquery',\n",
              " 'configuring tomcat use ssl',\n",
              " 'awesome nested set plugin add new children tree various levels',\n",
              " 'create map json response ruby rails 3',\n",
              " 'rspec test method called',\n",
              " 'springboot catalina lifecycle exception',\n",
              " 'import data excel mysql database using php',\n",
              " 'obtaining object javalangclasst object parameterized type without constructing class q_uestion',\n",
              " 'ipad selecting text inside text input tap',\n",
              " 'jquerys function object',\n",
              " 'eclipse c++ mingw lauch program terminated',\n",
              " 'javascript call one prototype method another prototype method',\n",
              " 'get intersection list sets',\n",
              " 'longer able hide keyboard viewwilldisappear ios7',\n",
              " 'fetch key json swift',\n",
              " 'change pivot header template windows phone 8',\n",
              " 'connectionstring encryption',\n",
              " 'let ui refresh long running ui operation',\n",
              " 'better way execute ruby file using python get ruby console output ruby file run python',\n",
              " 'make 2 thumbnails codeigniter',\n",
              " 'java character vs char memory usage',\n",
              " 'bootstrap modal close enter key press',\n",
              " 'linq query group retrieving percentage',\n",
              " 'label field issue openerp',\n",
              " 'keep 2 objects view time scaling field view zy axis',\n",
              " 'attributeerror nonetype object attribute split',\n",
              " 'append mat file using scipyiosavemat',\n",
              " 'jquery replace onclick hcommandlink',\n",
              " 'redirect output ruby programme file',\n",
              " 'accesscontrolalloworigin header present requested resource error',\n",
              " 'creating json windows 8 c # using ijsonvalue implicitly convert type string windowsdatajsonijsonvalue',\n",
              " 'django modelform label captialisation',\n",
              " 'showhide div slide javascript without jquery']"
            ]
          },
          "metadata": {
            "tags": []
          },
          "execution_count": 259
        }
      ]
    },
    {
      "cell_type": "code",
      "metadata": {
        "colab": {
          "base_uri": "https://localhost:8080/"
        },
        "id": "ADy6SPv9p5QB",
        "outputId": "ed868297-564e-4e1b-842c-000721856eff"
      },
      "source": [
        "y_train[:20]"
      ],
      "execution_count": null,
      "outputs": [
        {
          "output_type": "execute_result",
          "data": {
            "text/plain": [
              "array([list(['r']), list(['php', 'mysql']), list(['c#']),\n",
              "       list(['javascript', 'jquery']), list(['java']),\n",
              "       list(['ruby-on-rails']), list(['ruby', 'ruby-on-rails-3', 'json']),\n",
              "       list(['ruby']), list(['java', 'spring', 'spring-mvc']),\n",
              "       list(['php', 'codeigniter']), list(['java', 'class']),\n",
              "       list(['javascript', 'jquery', 'html', 'ios']),\n",
              "       list(['javascript', 'jquery']), list(['c++', 'eclipse']),\n",
              "       list(['javascript']), list(['python', 'list']),\n",
              "       list(['ios', 'objective-c']), list(['ios', 'json', 'swift']),\n",
              "       list(['c#', 'xaml']), list(['c#', 'asp.net'])], dtype=object)"
            ]
          },
          "metadata": {
            "tags": []
          },
          "execution_count": 260
        }
      ]
    },
    {
      "cell_type": "code",
      "metadata": {
        "id": "4Za9yIOxZgTX"
      },
      "source": [
        "X_train = [text_prepare(x, '') for x in X_train]\n",
        "X_val = [text_prepare(x, '') for x in X_val]\n",
        "X_test = [text_prepare(x, '') for x in X_test]"
      ],
      "execution_count": null,
      "outputs": []
    },
    {
      "cell_type": "code",
      "metadata": {
        "colab": {
          "base_uri": "https://localhost:8080/"
        },
        "id": "kNaIRv8WZtZ9",
        "outputId": "1077de1e-7b1f-455b-c22d-97b87a9fb042"
      },
      "source": [
        "X_train[:36]"
      ],
      "execution_count": null,
      "outputs": [
        {
          "output_type": "execute_result",
          "data": {
            "text/plain": [
              "['draw stacked dotplot r',\n",
              " 'mysql select records datetime field less specified value',\n",
              " 'terminate windows phone 81 app',\n",
              " 'get current time specific country via jquery',\n",
              " 'configuring tomcat use ssl',\n",
              " 'awesome nested set plugin add new children tree various levels',\n",
              " 'create map json response ruby rails 3',\n",
              " 'rspec test method called',\n",
              " 'springboot catalina lifecycle exception',\n",
              " 'import data excel mysql database using php',\n",
              " 'obtaining object javalangclasst object parameterized type without constructing class q_uestion',\n",
              " 'ipad selecting text inside text input tap',\n",
              " 'jquerys function object',\n",
              " 'eclipse c++ mingw lauch program terminated',\n",
              " 'javascript call one prototype method another prototype method',\n",
              " 'get intersection list sets',\n",
              " 'longer able hide keyboard viewwilldisappear ios7',\n",
              " 'fetch key json swift',\n",
              " 'change pivot header template windows phone 8',\n",
              " 'connectionstring encryption',\n",
              " 'let ui refresh long running ui operation',\n",
              " 'better way execute ruby file using python get ruby console output ruby file run python',\n",
              " 'make 2 thumbnails codeigniter',\n",
              " 'java character vs char memory usage',\n",
              " 'bootstrap modal close enter key press',\n",
              " 'linq query group retrieving percentage',\n",
              " 'label field issue openerp',\n",
              " 'keep 2 objects view time scaling field view zy axis',\n",
              " 'attributeerror nonetype object attribute split',\n",
              " 'append mat file using scipyiosavemat',\n",
              " 'jquery replace onclick hcommandlink',\n",
              " 'redirect output ruby programme file',\n",
              " 'accesscontrolalloworigin header present requested resource error',\n",
              " 'creating json windows 8 c# using ijsonvalue implicitly convert type string windowsdatajsonijsonvalue',\n",
              " 'django modelform label captialisation',\n",
              " 'showhide div slide javascript without jquery']"
            ]
          },
          "metadata": {
            "tags": []
          },
          "execution_count": 263
        }
      ]
    },
    {
      "cell_type": "markdown",
      "metadata": {
        "id": "tbRZ4DuJaAag"
      },
      "source": [
        "\n",
        "For each tag and for each word calculate how many times they occur in the train corpus.\n",
        "\n"
      ]
    },
    {
      "cell_type": "markdown",
      "metadata": {
        "id": "rDEWUG2RaExd"
      },
      "source": [
        "#**Task 2 (WordsTagsCount)**. \n",
        "Find 3 most popular tags and 3 most popular words in the train data and submit the results to earn the points."
      ]
    },
    {
      "cell_type": "code",
      "metadata": {
        "id": "kKyTJKmoaXol"
      },
      "source": [
        "# Dictionary of all tags from train corpus with their counts.\n",
        "tags_counts = {}\n",
        "# Dictionary of all words from train corpus with their counts.\n",
        "words_counts = {}\n",
        "\n",
        "# Dictionary of all tags from train corpus with their counts.\n",
        "for tags in y_train:\n",
        "    for tag in tags:\n",
        "       if tag in tags_counts:\n",
        "            tags_counts[tag] += 1\n",
        "       else:\n",
        "            tags_counts[tag] = 1\n",
        "\n",
        "# Dictionary of all words from train corpus with their counts.\n",
        "for title in X_train:\n",
        "    for word in title.split():\n",
        "        if word in words_counts:\n",
        "            words_counts[word] += 1\n",
        "        else:\n",
        "            words_counts[word] = 1\n",
        "\n",
        "# print(tags_counts)\n",
        "# print(words_counts)"
      ],
      "execution_count": 403,
      "outputs": []
    },
    {
      "cell_type": "code",
      "metadata": {
        "colab": {
          "base_uri": "https://localhost:8080/"
        },
        "id": "CMiLo0dXmtGA",
        "outputId": "23ba48ea-2cb6-4bb4-e83a-466fe9348aee"
      },
      "source": [
        "most_common_tags = sorted(tags_counts.items(), key=lambda x: x[1], reverse=True)[:3]\n",
        "most_common_words = sorted(words_counts.items(), key=lambda x: x[1], reverse=True)[:3]\n",
        "\n",
        "print(f\"Top three most popular tags are: {','.join(tag for tag, _ in most_common_tags)}\")\n",
        "print(f\"Top three most popular words are: {','.join(tag for tag, _ in most_common_words)}\")\n",
        "\n",
        "grader.submit_tag('WordsTagsCount', '%s\\n%s' % (','.join(tag for tag, _ in most_common_tags), \n",
        "                                                ','.join(word for word, _ in most_common_words)))\n"
      ],
      "execution_count": null,
      "outputs": [
        {
          "output_type": "stream",
          "text": [
            "Top three most popular tags are: javascript,c#,java\n",
            "Top three most popular words are: using,php,java\n",
            "Current answer for task WordsTagsCount is:\n",
            " javascript,c#,java\n",
            "using,php,java...\n"
          ],
          "name": "stdout"
        }
      ]
    },
    {
      "cell_type": "markdown",
      "metadata": {
        "id": "3SwRRXZvn-f5"
      },
      "source": [
        "#**Transforming text to a vector**\n",
        "Machine Learning algorithms work with numeric data and we cannot use the provided text data \"as is\". There are many ways to transform text data to numeric vectors.\n"
      ]
    },
    {
      "cell_type": "markdown",
      "metadata": {
        "id": "FqFl_aB3phER"
      },
      "source": [
        "#**Bag of words**\n",
        "\n",
        "One of the well-known approaches is a bag-of-words representation. To create this transformation, follow the steps:\n",
        "\n",
        "Find N most popular words in train corpus and numerate them. Now we have a dictionary of the most popular words.\n",
        "For each title in the corpora create a zero vector with the dimension equals to N.\n",
        "For each text in the corpora iterate over words which are in the dictionary and increase by 1 the corresponding coordinate.\n",
        "Let's try to do it for a toy example. Imagine that we have N = 4 and the list of the most popular words is\n",
        "\n",
        "`['hi', 'you', 'me', 'are']`\n",
        "\n",
        "Then we need to numerate them, for example, like this:\n",
        "\n",
        "`{'hi': 0, 'you': 1, 'me': 2, 'are': 3}`\n",
        "\n",
        "And we have the text, which we want to transform to the vector:\n",
        "\n",
        "`'hi how are you'`\n",
        "\n",
        "For this text we create a corresponding zero vector\n",
        "\n",
        "`[0, 0, 0, 0]`\n",
        "\n",
        "And iterate over all words, and if the word is in the dictionary, we increase the value of the corresponding position in the vector:\n",
        "\n",
        "`'hi':  [1, 0, 0, 0]`\n",
        "\n",
        "`'how': [1, 0, 0, 0] # word 'how' is not in our dictionary`\n",
        "\n",
        "`'are': [1, 0, 0, 1]`\n",
        "\n",
        "`'you': [1, 1, 0, 1]`\n",
        "\n",
        "The resulting vector will be\n",
        "\n",
        "`[1, 1, 0, 1]`"
      ]
    },
    {
      "cell_type": "code",
      "metadata": {
        "id": "PBaSPm-wsTkf"
      },
      "source": [
        "DICT_SIZE = 5000\n",
        "WORDS_TO_INDEX = {j[0]:i for i,j in enumerate(sorted(words_counts.items(), key=lambda x: x[1], reverse=True)[:DICT_SIZE])}\n",
        "INDEX_TO_WORDS = {i:j[0] for i,j in enumerate(sorted(words_counts.items(), key=lambda x: x[1], reverse=True)[:DICT_SIZE])}\n",
        "ALL_WORDS = WORDS_TO_INDEX.keys()\n",
        "# print(WORDS_TO_INDEX)\n",
        "# print(INDEX_TO_WORDS)\n",
        "\n",
        "def my_bag_of_words(text, words_to_index, dict_size):\n",
        "    \"\"\"\n",
        "        text: a string\n",
        "        dict_size: size of the dictionary\n",
        "        \n",
        "        return a vector which is a bag-of-words representation of 'text'\n",
        "    \"\"\"\n",
        "    result_vector = np.zeros(dict_size)\n",
        "    keys= [words_to_index[i] for i in text.split(\" \") if i in words_to_index.keys()]\n",
        "    result_vector[keys]=1\n",
        "\n",
        "    # y=text.split(\" \")\n",
        "    # for i in range(0,len(y)):\n",
        "    #     for key,value in words_to_index.items():\n",
        "    #         if y[i]==key:\n",
        "    #             result_vector[words_to_index[key]]=result_vector[words_to_index[key]]+1\n",
        "    \n",
        "    return result_vector"
      ],
      "execution_count": 404,
      "outputs": []
    },
    {
      "cell_type": "code",
      "metadata": {
        "id": "QXOilplZ2zq8"
      },
      "source": [
        "def test_my_bag_of_words():\n",
        "    words_to_index = {'hi': 0, 'you': 1, 'me': 2, 'are': 3}\n",
        "    examples = ['hi how are you']\n",
        "    answers = [[1, 1, 0, 1]]\n",
        "    for ex, ans in zip(examples, answers):\n",
        "        print(my_bag_of_words(ex, words_to_index, 4))\n",
        "        if (my_bag_of_words(ex, words_to_index, 4) != ans).any():\n",
        "            return \"Wrong answer for the case: '%s'\" % ex\n",
        "    return 'Basic tests are passed.'"
      ],
      "execution_count": null,
      "outputs": []
    },
    {
      "cell_type": "code",
      "metadata": {
        "colab": {
          "base_uri": "https://localhost:8080/"
        },
        "id": "e3y1s4kEqNil",
        "outputId": "fa425e6c-0329-499e-a550-c36684e15502"
      },
      "source": [
        "print(test_my_bag_of_words())"
      ],
      "execution_count": null,
      "outputs": [
        {
          "output_type": "stream",
          "text": [
            "[1. 1. 0. 1.]\n",
            "Basic tests are passed.\n"
          ],
          "name": "stdout"
        }
      ]
    },
    {
      "cell_type": "markdown",
      "metadata": {
        "id": "QD-yiEmK5GGy"
      },
      "source": [
        "Now apply the implemented function to all samples (this might take up to a minute):"
      ]
    },
    {
      "cell_type": "code",
      "metadata": {
        "id": "jGMzxv9h5G8o"
      },
      "source": [
        "from scipy import sparse as sp_sparse"
      ],
      "execution_count": null,
      "outputs": []
    },
    {
      "cell_type": "code",
      "metadata": {
        "colab": {
          "base_uri": "https://localhost:8080/"
        },
        "id": "x7CnMXhl5ba2",
        "outputId": "cfeeaa37-fea4-4d87-f3d1-c28b10dba399"
      },
      "source": [
        "X_train_mybag = sp_sparse.vstack([sp_sparse.csr_matrix(my_bag_of_words(text, WORDS_TO_INDEX, DICT_SIZE)) for text in X_train])\n",
        "X_val_mybag = sp_sparse.vstack([sp_sparse.csr_matrix(my_bag_of_words(text, WORDS_TO_INDEX, DICT_SIZE)) for text in X_val])\n",
        "X_test_mybag = sp_sparse.vstack([sp_sparse.csr_matrix(my_bag_of_words(text, WORDS_TO_INDEX, DICT_SIZE)) for text in X_test])\n",
        "print('X_train shape ', X_train_mybag.shape)\n",
        "print('X_val shape ', X_val_mybag.shape)\n",
        "print('X_test shape ', X_test_mybag.shape)"
      ],
      "execution_count": null,
      "outputs": [
        {
          "output_type": "stream",
          "text": [
            "X_train shape  (100000, 5000)\n",
            "X_val shape  (30000, 5000)\n",
            "X_test shape  (20000, 5000)\n"
          ],
          "name": "stdout"
        }
      ]
    },
    {
      "cell_type": "markdown",
      "metadata": {
        "id": "IdE6OB7C9end"
      },
      "source": [
        "#**Task 3 (BagOfWords).** \n",
        "For the 11th row in X_train_mybag find how many non-zero elements it has. In this task the answer (variable non_zero_elements_count) should be an integer number, e.g. 20."
      ]
    },
    {
      "cell_type": "code",
      "metadata": {
        "colab": {
          "base_uri": "https://localhost:8080/"
        },
        "id": "JSiOyUIcCieC",
        "outputId": "49fec965-6ed1-4716-bfd2-751979413d5c"
      },
      "source": [
        "print(X_train_mybag[10,16])"
      ],
      "execution_count": null,
      "outputs": [
        {
          "output_type": "stream",
          "text": [
            "1.0\n"
          ],
          "name": "stdout"
        }
      ]
    },
    {
      "cell_type": "code",
      "metadata": {
        "colab": {
          "base_uri": "https://localhost:8080/"
        },
        "id": "1KJM4I8jDdju",
        "outputId": "303c55de-b241-4e49-9249-12703c7011bc"
      },
      "source": [
        "print(X_train_mybag[10])"
      ],
      "execution_count": null,
      "outputs": [
        {
          "output_type": "stream",
          "text": [
            "  (0, 15)\t1.0\n",
            "  (0, 16)\t1.0\n",
            "  (0, 28)\t1.0\n",
            "  (0, 49)\t1.0\n",
            "  (0, 3159)\t1.0\n",
            "  (0, 3287)\t1.0\n",
            "  (0, 4495)\t1.0\n"
          ],
          "name": "stdout"
        }
      ]
    },
    {
      "cell_type": "code",
      "metadata": {
        "colab": {
          "base_uri": "https://localhost:8080/"
        },
        "id": "U1baGX4t93sW",
        "outputId": "bf50b068-f2e6-4471-9576-391803d2d555"
      },
      "source": [
        "row = X_train_mybag[10].toarray()[0]\n",
        "non_zero_elements_count=0\n",
        "\n",
        "for i in range(0,5000):\n",
        "    # print(row[i])\n",
        "    if (row[i] != 0.0):\n",
        "        non_zero_elements_count=non_zero_elements_count+1\n",
        "\n",
        "print(non_zero_elements_count)\n",
        "\n",
        "grader.submit_tag('BagOfWords', str(non_zero_elements_count))"
      ],
      "execution_count": null,
      "outputs": [
        {
          "output_type": "stream",
          "text": [
            "7\n",
            "Current answer for task BagOfWords is:\n",
            " 7...\n"
          ],
          "name": "stdout"
        }
      ]
    },
    {
      "cell_type": "markdown",
      "metadata": {
        "id": "qORcuxNdAq8x"
      },
      "source": [
        "#**TF-IDF**\n",
        "The second approach extends the bag-of-words framework by taking into account total frequencies of words in the corpora. It helps to penalize too frequent words and provide better features space.\n",
        "\n",
        "Implement function tfidf_features using class TfidfVectorizer from scikit-learn. Use train corpus to train a vectorizer. Don't forget to take a look into the arguments that you can pass to it. We suggest that you filter out too rare words (occur less than in 5 titles) and too frequent words (occur more than in 90% of the titles). Also, use bigrams along with unigrams in your vocabulary."
      ]
    },
    {
      "cell_type": "code",
      "metadata": {
        "id": "XsNtyrMJBOFH"
      },
      "source": [
        "from sklearn.feature_extraction.text import TfidfVectorizer"
      ],
      "execution_count": null,
      "outputs": []
    },
    {
      "cell_type": "code",
      "metadata": {
        "id": "M0lVCLcHBXES"
      },
      "source": [
        "def tfidf_features(X_train, X_val, X_test):\n",
        "    \"\"\"\n",
        "        X_train, X_val, X_test — samples        \n",
        "        return TF-IDF vectorized representation of each sample and vocabulary\n",
        "    \"\"\"\n",
        "    # Create TF-IDF vectorizer with a proper parameters choice\n",
        "    # Fit the vectorizer on the train set\n",
        "    # Transform the train, test, and val sets and return the result    \n",
        "    \n",
        "    tfidf_vectorizer = TfidfVectorizer(X_train, ngram_range=(1, 2), max_df=0.9, min_df=5, token_pattern= '(\\S+)')\n",
        "    tfidf_vectorizer.fit(X_train)\n",
        "    X_train = tfidf_vectorizer.transform(X_train)\n",
        "    X_val = tfidf_vectorizer.transform(X_val)\n",
        "    X_test = tfidf_vectorizer.transform(X_test)\n",
        "    \n",
        "    return X_train, X_val, X_test, tfidf_vectorizer.vocabulary_"
      ],
      "execution_count": null,
      "outputs": []
    },
    {
      "cell_type": "markdown",
      "metadata": {
        "id": "_d3C1SzlDHIy"
      },
      "source": [
        "Once you have done text preprocessing, always have a look at the results. Be very careful at this step, because the performance of future models will drastically depend on it.\n",
        "\n",
        "In this case, check whether you have c++ or c# in your vocabulary, as they are obviously important tokens in our tags prediction task:"
      ]
    },
    {
      "cell_type": "code",
      "metadata": {
        "id": "gJMH0-HgDIPK"
      },
      "source": [
        "X_train_tfidf, X_val_tfidf, X_test_tfidf, tfidf_vocab = tfidf_features(X_train, X_val, X_test)\n",
        "tfidf_reversed_vocab = {i:word for word,i in tfidf_vocab.items()}"
      ],
      "execution_count": null,
      "outputs": []
    },
    {
      "cell_type": "code",
      "metadata": {
        "colab": {
          "base_uri": "https://localhost:8080/"
        },
        "id": "mUy4ss3MGtz4",
        "outputId": "99b1250e-680c-4ece-930b-d8a280a8a6d0"
      },
      "source": [
        "print('X_test_tfidf ', X_test_tfidf.shape) \n",
        "print('X_val_tfidf ',X_val_tfidf.shape)\n",
        "# print('tfidf_vocab', tfidf_vocab)\n",
        "# print('tfidf_reversed_vocab', tfidf_reversed_vocab)"
      ],
      "execution_count": 405,
      "outputs": [
        {
          "output_type": "stream",
          "text": [
            "X_test_tfidf  (20000, 17931)\n",
            "X_val_tfidf  (30000, 17931)\n"
          ],
          "name": "stdout"
        }
      ]
    },
    {
      "cell_type": "code",
      "metadata": {
        "colab": {
          "base_uri": "https://localhost:8080/"
        },
        "id": "jQ_AYmgVjh2r",
        "outputId": "6baf575c-f50e-43d9-b495-e0200c985c7c"
      },
      "source": [
        "print('javascript' in tfidf_vocab)\n",
        "print('php' in tfidf_vocab)\n",
        "print('sql' in tfidf_vocab)\n",
        "print('c++' in tfidf_vocab)\n",
        "print('c#' in tfidf_vocab)"
      ],
      "execution_count": null,
      "outputs": [
        {
          "output_type": "stream",
          "text": [
            "True\n",
            "True\n",
            "True\n",
            "True\n",
            "True\n"
          ],
          "name": "stdout"
        }
      ]
    },
    {
      "cell_type": "markdown",
      "metadata": {
        "id": "7AYrxkSQDlWG"
      },
      "source": [
        "\n",
        "If you can't find it, we need to understand how did it happen that we lost them? It happened during the built-in tokenization of TfidfVectorizer. Luckily, we can influence on this process. Get back to the function above and use '(\\S+)' regexp as a token_pattern in the constructor of the vectorizer.\n",
        "\n",
        "Now, use this transormation for the data and check again."
      ]
    },
    {
      "cell_type": "markdown",
      "metadata": {
        "id": "tXS08f82d191"
      },
      "source": [
        "#**MultiLabel classifier**\n",
        "As we have noticed before, in this task each example can have multiple tags. To deal with such kind of prediction, we need to transform labels in a binary form and the prediction will be a mask of 0s and 1s. For this purpose it is convenient to use MultiLabelBinarizer from sklearn."
      ]
    },
    {
      "cell_type": "code",
      "metadata": {
        "id": "rPwP-XiHd8QE"
      },
      "source": [
        "from sklearn.preprocessing import MultiLabelBinarizer"
      ],
      "execution_count": null,
      "outputs": []
    },
    {
      "cell_type": "code",
      "metadata": {
        "colab": {
          "base_uri": "https://localhost:8080/"
        },
        "id": "mJFgSqZ0ifAE",
        "outputId": "390e03b9-aea4-4c58-b7b0-e76c52b73765"
      },
      "source": [
        "print(tags_counts.keys())"
      ],
      "execution_count": null,
      "outputs": [
        {
          "output_type": "stream",
          "text": [
            "dict_keys(['r', 'php', 'mysql', 'c#', 'javascript', 'jquery', 'java', 'ruby-on-rails', 'ruby', 'ruby-on-rails-3', 'json', 'spring', 'spring-mvc', 'codeigniter', 'class', 'html', 'ios', 'c++', 'eclipse', 'python', 'list', 'objective-c', 'swift', 'xaml', 'asp.net', 'wpf', 'multithreading', 'image', 'performance', 'twitter-bootstrap', 'linq', 'xml', 'numpy', 'ajax', 'django', 'laravel', 'android', 'rest', 'asp.net-mvc', 'web-services', 'string', 'excel', 'winforms', 'arrays', 'c', 'sockets', 'osx', 'entity-framework', 'mongodb', 'opencv', 'xcode', 'uitableview', 'algorithm', 'python-2.7', 'angularjs', 'dom', 'swing', '.net', 'vb.net', 'google-maps', 'hibernate', 'wordpress', 'iphone', 'sql', 'visual-studio', 'linux', 'facebook', 'database', 'file', 'generics', 'visual-studio-2010', 'regex', 'html5', 'jsp', 'csv', 'forms', 'validation', 'parsing', 'function', 'pandas', 'sorting', 'qt', 'wcf', 'css', 'date', 'node.js', 'sql-server', 'unit-testing', 'python-3.x', 'loops', 'windows', 'pointers', 'oop', 'datetime', 'servlets', 'session', 'cocoa-touch', 'apache', 'selenium', 'maven'])\n"
          ],
          "name": "stdout"
        }
      ]
    },
    {
      "cell_type": "code",
      "metadata": {
        "id": "jwx71cU6eAtW"
      },
      "source": [
        "mlb = MultiLabelBinarizer(classes=sorted(tags_counts.keys()))\n",
        "y_train = mlb.fit_transform(y_train)\n",
        "y_val = mlb.fit_transform(y_val)"
      ],
      "execution_count": null,
      "outputs": []
    },
    {
      "cell_type": "markdown",
      "metadata": {
        "id": "9QA5icLxeR_-"
      },
      "source": [
        "Implement the function train_classifier for training a classifier. In this task we suggest to use One-vs-Rest approach, which is implemented in OneVsRestClassifier class. In this approach k classifiers (= number of tags) are trained. As a basic classifier, use LogisticRegression. It is one of the simplest methods, but often it performs good enough in text classification tasks. It might take some time, because a number of classifiers to train is large."
      ]
    },
    {
      "cell_type": "code",
      "metadata": {
        "id": "DYukEfLqeTPN"
      },
      "source": [
        "from sklearn.multiclass import OneVsRestClassifier\n",
        "from sklearn.linear_model import LogisticRegression, RidgeClassifier"
      ],
      "execution_count": null,
      "outputs": []
    },
    {
      "cell_type": "code",
      "metadata": {
        "id": "-6gRP9RieWnN"
      },
      "source": [
        "def train_classifier(X_train, y_train):\n",
        "    \"\"\"\n",
        "      X_train, y_train — training data\n",
        "      \n",
        "      return: trained classifier\n",
        "      \n",
        "    \"\"\"\n",
        "    classifier = OneVsRestClassifier(LogisticRegression(C=10, max_iter=1000))\n",
        "    model = classifier.fit(X_train, y_train)\n",
        "    return model"
      ],
      "execution_count": null,
      "outputs": []
    },
    {
      "cell_type": "markdown",
      "metadata": {
        "id": "hYt2a2dyfB-A"
      },
      "source": [
        "Train the classifiers for different data transformations: bag-of-words and tf-idf.\n",
        "\n",
        "If you receive a convergence warning, please set parameter max_iter in LogisticRegression to a larger value (the default is 100)."
      ]
    },
    {
      "cell_type": "code",
      "metadata": {
        "id": "0tCA6IO9fDrd"
      },
      "source": [
        "classifier_mybag = train_classifier(X_train_mybag, y_train)\n",
        "classifier_tfidf = train_classifier(X_train_tfidf, y_train)"
      ],
      "execution_count": null,
      "outputs": []
    },
    {
      "cell_type": "code",
      "metadata": {
        "colab": {
          "base_uri": "https://localhost:8080/"
        },
        "id": "ijjI7VH42606",
        "outputId": "2ef9d09f-33cb-4a96-c225-f7d58d28d5a2"
      },
      "source": [
        "from google.colab import drive\n",
        "drive.mount('/content/drive')"
      ],
      "execution_count": null,
      "outputs": [
        {
          "output_type": "stream",
          "text": [
            "Drive already mounted at /content/drive; to attempt to forcibly remount, call drive.mount(\"/content/drive\", force_remount=True).\n"
          ],
          "name": "stdout"
        }
      ]
    },
    {
      "cell_type": "markdown",
      "metadata": {
        "id": "PSyVz4OHfe-v"
      },
      "source": [
        "Now you can create predictions for the data. You will need two types of predictions: labels and scores."
      ]
    },
    {
      "cell_type": "code",
      "metadata": {
        "id": "6RXzYM5gff2l"
      },
      "source": [
        "y_val_predicted_labels_mybag = classifier_mybag.predict(X_val_mybag)\n",
        "y_val_predicted_scores_mybag = classifier_mybag.decision_function(X_val_mybag)\n",
        "\n",
        "y_val_predicted_labels_tfidf = classifier_tfidf.predict(X_val_tfidf)\n",
        "y_val_predicted_scores_tfidf = classifier_tfidf.decision_function(X_val_tfidf)"
      ],
      "execution_count": null,
      "outputs": []
    },
    {
      "cell_type": "markdown",
      "metadata": {
        "id": "FIOGxdGOfoc5"
      },
      "source": [
        "\n",
        "Now take a look at how classifier, which uses TF-IDF, works for a few examples:"
      ]
    },
    {
      "cell_type": "code",
      "metadata": {
        "colab": {
          "base_uri": "https://localhost:8080/"
        },
        "id": "TdRAsjtZfpH2",
        "outputId": "3e0ded20-b8b8-4be1-d973-ffb04b901e90"
      },
      "source": [
        "y_val_pred_inversed = mlb.inverse_transform(y_val_predicted_labels_tfidf)\n",
        "y_val_inversed = mlb.inverse_transform(y_val)\n",
        "for i in range(10):\n",
        "    print('Title:\\t{}\\nTrue labels:\\t{}\\nPredicted labels:\\t{}\\n\\n'.format(\n",
        "        X_val[i],\n",
        "        ','.join(y_val_inversed[i]),\n",
        "        ','.join(y_val_pred_inversed[i])\n",
        "    ))"
      ],
      "execution_count": null,
      "outputs": [
        {
          "output_type": "stream",
          "text": [
            "Title:\todbc_exec always fail\n",
            "True labels:\tphp,sql\n",
            "Predicted labels:\t\n",
            "\n",
            "\n",
            "Title:\taccess base classes variable within child class\n",
            "True labels:\tjavascript\n",
            "Predicted labels:\tc#\n",
            "\n",
            "\n",
            "Title:\tcontenttype applicationjson required rails\n",
            "True labels:\truby,ruby-on-rails\n",
            "Predicted labels:\truby-on-rails\n",
            "\n",
            "\n",
            "Title:\tsessions sinatra used pass variable\n",
            "True labels:\truby,session\n",
            "Predicted labels:\tphp,ruby\n",
            "\n",
            "\n",
            "Title:\tgetting error type json exist postgresql rake db migrate\n",
            "True labels:\tjson,ruby,ruby-on-rails\n",
            "Predicted labels:\tjson,ruby-on-rails\n",
            "\n",
            "\n",
            "Title:\tlibrary found\n",
            "True labels:\tc++,ios,iphone,xcode\n",
            "Predicted labels:\t\n",
            "\n",
            "\n",
            "Title:\tcsproj file programmatic addingdeleting files\n",
            "True labels:\tc#\n",
            "Predicted labels:\tfile\n",
            "\n",
            "\n",
            "Title:\ttypeerror makedirs got unexpected keyword argument exists_ok\n",
            "True labels:\tdjango,python\n",
            "Predicted labels:\tpython\n",
            "\n",
            "\n",
            "Title:\tpan div using jquery\n",
            "True labels:\thtml,javascript,jquery\n",
            "Predicted labels:\tjavascript,jquery\n",
            "\n",
            "\n",
            "Title:\thibernate intermediateadvanced tutorials\n",
            "True labels:\thibernate,java\n",
            "Predicted labels:\thibernate,java\n",
            "\n",
            "\n"
          ],
          "name": "stdout"
        }
      ]
    },
    {
      "cell_type": "markdown",
      "metadata": {
        "id": "H4H8RB3EiGXw"
      },
      "source": [
        "#**Evaluation**\n",
        "To evaluate the results we will use several classification metrics:\n",
        "\n",
        "- [Accuracy](https://scikit-learn.org/stable/modules/preprocessing.html)\n",
        "- [F1-score](http://scikit-learn.org/stable/modules/generated/sklearn.metrics.f1_score.html)\n",
        "- [Area under ROC-curve](http://scikit-learn.org/stable/modules/generated/sklearn.metrics.roc_auc_score.html)\n",
        "- [Area under precision-recall curve](http://scikit-learn.org/stable/modules/generated/sklearn.metrics.average_precision_score.html#sklearn.metrics.average_precision_score)\n",
        "\n",
        "Make sure you are familiar with all of them. How would you expect the things work for the multi-label scenario? Read about micro/macro/weighted averaging following the sklearn links provided above."
      ]
    },
    {
      "cell_type": "code",
      "metadata": {
        "id": "y4-mStXni3At"
      },
      "source": [
        "from sklearn.metrics import accuracy_score\n",
        "from sklearn.metrics import f1_score\n",
        "from sklearn.metrics import roc_auc_score \n",
        "from sklearn.metrics import average_precision_score\n",
        "from sklearn.metrics import recall_score"
      ],
      "execution_count": null,
      "outputs": []
    },
    {
      "cell_type": "markdown",
      "metadata": {
        "id": "pZVms_epi7pB"
      },
      "source": [
        "Implement the function print_evaluation_scores which calculates and prints to stdout:\n",
        "\n",
        "- accuracy\n",
        "- F1-score macro/micro/weighted\n",
        "- Precision macro/micro/weighted"
      ]
    },
    {
      "cell_type": "code",
      "metadata": {
        "id": "4D8fkG--jJ-l"
      },
      "source": [
        "def print_evaluation_scores(y_val, predicted):\n",
        "    \n",
        "    ######################################\n",
        "    ######### YOUR CODE HERE #############\n",
        "    ######################################\n",
        "    print('Accuracy:',accuracy_score(y_val, predicted))\n",
        "    print('F1 Score:',f1_score(y_val, predicted, average='weighted'))\n",
        "    print('Precision:',average_precision_score(y_val, predicted,average='weighted'))\n",
        "    print('Recall:',recall_score(y_val, predicted,average='weighted'))"
      ],
      "execution_count": null,
      "outputs": []
    },
    {
      "cell_type": "code",
      "metadata": {
        "colab": {
          "base_uri": "https://localhost:8080/"
        },
        "id": "Uu83d9VQGnNO",
        "outputId": "4ce42626-b4ae-40ff-8ce8-3813bc7c5a20"
      },
      "source": [
        "\n",
        "print('Bag-of-words')\n",
        "print_evaluation_scores(y_val, y_val_predicted_labels_mybag)\n",
        "print('Tfidf')\n",
        "print_evaluation_scores(y_val, y_val_predicted_labels_tfidf)"
      ],
      "execution_count": null,
      "outputs": [
        {
          "output_type": "stream",
          "text": [
            "Bag-of-words\n",
            "Accuracy: 0.3484333333333333\n",
            "F1 Score: 0.6489892332265389\n",
            "Precision: 0.4984073680274898\n",
            "Recall: 0.5709280464877798\n",
            "Tfidf\n",
            "Accuracy: 0.3587666666666667\n",
            "F1 Score: 0.6490796367565448\n",
            "Precision: 0.5044861246530794\n",
            "Recall: 0.5623654076226287\n"
          ],
          "name": "stdout"
        }
      ]
    },
    {
      "cell_type": "markdown",
      "metadata": {
        "id": "-ACoz16KG6NF"
      },
      "source": [
        "You might also want to plot some generalization of the ROC curve for the case of multi-label classification. Provided function roc_auc can make it for you. The input parameters of this function are:\n",
        "\n",
        "- true labels\n",
        "- decision functions scores\n",
        "- number of classes"
      ]
    },
    {
      "cell_type": "code",
      "metadata": {
        "id": "2BHC9zKnG_Q9"
      },
      "source": [
        "from metrics import roc_auc\n",
        "%matplotlib inline"
      ],
      "execution_count": null,
      "outputs": []
    },
    {
      "cell_type": "code",
      "metadata": {
        "colab": {
          "base_uri": "https://localhost:8080/",
          "height": 295
        },
        "id": "xPkRn4CpHCnl",
        "outputId": "a455294d-a4b4-4593-b09b-1d10506e8b27"
      },
      "source": [
        "n_classes = len(tags_counts)\n",
        "roc_auc(y_val, y_val_predicted_scores_mybag, n_classes)"
      ],
      "execution_count": null,
      "outputs": [
        {
          "output_type": "display_data",
          "data": {
            "image/png": "[encoded data removed]",
            "text/plain": [
              "<Figure size 432x288 with 1 Axes>"
            ]
          },
          "metadata": {
            "tags": [],
            "needs_background": "light"
          }
        }
      ]
    },
    {
      "cell_type": "code",
      "metadata": {
        "colab": {
          "base_uri": "https://localhost:8080/",
          "height": 295
        },
        "id": "rx6B07aIHMac",
        "outputId": "26d39055-4485-45d1-93dc-95b7214faa57"
      },
      "source": [
        "n_classes = len(tags_counts)\n",
        "roc_auc(y_val, y_val_predicted_scores_tfidf, n_classes)"
      ],
      "execution_count": null,
      "outputs": [
        {
          "output_type": "display_data",
          "data": {
            "image/png": "[encoded data removed]",
            "text/plain": [
              "<Figure size 432x288 with 1 Axes>"
            ]
          },
          "metadata": {
            "tags": [],
            "needs_background": "light"
          }
        }
      ]
    },
    {
      "cell_type": "markdown",
      "metadata": {
        "id": "JR8Yi82THadc"
      },
      "source": [
        "\n",
        "**Task 4 (MultilabelClassification).** Once we have the evaluation set up, we suggest that you experiment a bit with training your classifiers. We will use F1-score weighted as an evaluation metric. Our recommendation:\n",
        "\n",
        "compare the quality of the bag-of-words and TF-IDF approaches and chose one of them.\n",
        "for the chosen one, try L1 and L2-regularization techniques in Logistic Regression with different coefficients (e.g. C equal to 0.1, 1, 10, 100).\n",
        "You also could try other improvements of the preprocessing / model, if you want."
      ]
    },
    {
      "cell_type": "code",
      "metadata": {
        "id": "HumoCCcHHhKU"
      },
      "source": [
        "def train_classifier(X_train, y_train):\n",
        "    \"\"\"\n",
        "      X_train, y_train — training data\n",
        "      \n",
        "      return: trained classifier\n",
        "      \n",
        "    \"\"\"\n",
        "    classifier = OneVsRestClassifier(LogisticRegression(C=10, max_iter=600, solver='liblinear', penalty='l1'))\n",
        "    model = classifier.fit(X_train, y_train)\n",
        "    return model"
      ],
      "execution_count": null,
      "outputs": []
    },
    {
      "cell_type": "code",
      "metadata": {
        "id": "izqOIDkzJAX0"
      },
      "source": [
        "classifier_mybag = train_classifier(X_train_mybag, y_train)\n",
        "classifier_tfidf = train_classifier(X_train_tfidf, y_train)"
      ],
      "execution_count": null,
      "outputs": []
    },
    {
      "cell_type": "code",
      "metadata": {
        "id": "gY0yp6LAJ1Kc"
      },
      "source": [
        "y_val_predicted_labels_mybag = classifier_mybag.predict(X_val_mybag)\n",
        "y_val_predicted_scores_mybag = classifier_mybag.decision_function(X_val_mybag)\n",
        "\n",
        "y_val_predicted_labels_tfidf = classifier_tfidf.predict(X_val_tfidf)\n",
        "y_val_predicted_scores_tfidf = classifier_tfidf.decision_function(X_val_tfidf)"
      ],
      "execution_count": null,
      "outputs": []
    },
    {
      "cell_type": "code",
      "metadata": {
        "colab": {
          "base_uri": "https://localhost:8080/"
        },
        "id": "J4JTFeMmJ5p3",
        "outputId": "142f551e-e585-4a3f-cb52-579b3aa1e0f5"
      },
      "source": [
        "y_val_pred_inversed = mlb.inverse_transform(y_val_predicted_labels_tfidf)\n",
        "y_val_inversed = mlb.inverse_transform(y_val)\n",
        "for i in range(10):\n",
        "    print('Title:\\t{}\\nTrue labels:\\t{}\\nPredicted labels:\\t{}\\n\\n'.format(\n",
        "        X_val[i],\n",
        "        ','.join(y_val_inversed[i]),\n",
        "        ','.join(y_val_pred_inversed[i])\n",
        "    ))"
      ],
      "execution_count": null,
      "outputs": [
        {
          "output_type": "stream",
          "text": [
            "Title:\todbc_exec always fail\n",
            "True labels:\tphp,sql\n",
            "Predicted labels:\t\n",
            "\n",
            "\n",
            "Title:\taccess base classes variable within child class\n",
            "True labels:\tjavascript\n",
            "Predicted labels:\tc#\n",
            "\n",
            "\n",
            "Title:\tcontenttype applicationjson required rails\n",
            "True labels:\truby,ruby-on-rails\n",
            "Predicted labels:\truby-on-rails\n",
            "\n",
            "\n",
            "Title:\tsessions sinatra used pass variable\n",
            "True labels:\truby,session\n",
            "Predicted labels:\tphp,ruby,session\n",
            "\n",
            "\n",
            "Title:\tgetting error type json exist postgresql rake db migrate\n",
            "True labels:\tjson,ruby,ruby-on-rails\n",
            "Predicted labels:\tjson,ruby-on-rails\n",
            "\n",
            "\n",
            "Title:\tlibrary found\n",
            "True labels:\tc++,ios,iphone,xcode\n",
            "Predicted labels:\t\n",
            "\n",
            "\n",
            "Title:\tcsproj file programmatic addingdeleting files\n",
            "True labels:\tc#\n",
            "Predicted labels:\tc#\n",
            "\n",
            "\n",
            "Title:\ttypeerror makedirs got unexpected keyword argument exists_ok\n",
            "True labels:\tdjango,python\n",
            "Predicted labels:\tpython\n",
            "\n",
            "\n",
            "Title:\tpan div using jquery\n",
            "True labels:\thtml,javascript,jquery\n",
            "Predicted labels:\tjavascript,jquery\n",
            "\n",
            "\n",
            "Title:\thibernate intermediateadvanced tutorials\n",
            "True labels:\thibernate,java\n",
            "Predicted labels:\thibernate,java\n",
            "\n",
            "\n"
          ],
          "name": "stdout"
        }
      ]
    },
    {
      "cell_type": "code",
      "metadata": {
        "id": "rJzlfupxKOkN"
      },
      "source": [
        "def print_evaluation_scores(y_val, predicted):\n",
        "    \n",
        "    ######################################\n",
        "    ######### YOUR CODE HERE #############\n",
        "    ######################################\n",
        "    print('Accuracy:',accuracy_score(y_val, predicted))\n",
        "    print('F1 Score:',f1_score(y_val, predicted, average='weighted'))\n",
        "    print('Precision:',average_precision_score(y_val, predicted,average='weighted'))\n",
        "    print('Recall:',recall_score(y_val, predicted,average='weighted'))"
      ],
      "execution_count": null,
      "outputs": []
    },
    {
      "cell_type": "code",
      "metadata": {
        "colab": {
          "base_uri": "https://localhost:8080/"
        },
        "id": "Vu-vVtb_KS-U",
        "outputId": "1060315e-afa0-4174-ab7a-902c6ba02e1a"
      },
      "source": [
        "print('Bag-of-words')\n",
        "print_evaluation_scores(y_val, y_val_predicted_labels_mybag)\n",
        "print('Tfidf')\n",
        "print_evaluation_scores(y_val, y_val_predicted_labels_tfidf)"
      ],
      "execution_count": null,
      "outputs": [
        {
          "output_type": "stream",
          "text": [
            "Bag-of-words\n",
            "Accuracy: 0.3329666666666667\n",
            "F1 Score: 0.6440753491432782\n",
            "Precision: 0.48799472154223383\n",
            "Recall: 0.5778328490856264\n",
            "Tfidf\n",
            "Accuracy: 0.33903333333333335\n",
            "F1 Score: 0.6437525209428367\n",
            "Precision: 0.4846343028270865\n",
            "Recall: 0.5866347632883268\n"
          ],
          "name": "stdout"
        }
      ]
    },
    {
      "cell_type": "code",
      "metadata": {
        "colab": {
          "base_uri": "https://localhost:8080/"
        },
        "id": "uzj5sY7dliGW",
        "outputId": "35070aa5-8141-4810-bd8e-7cf8979f7bf9"
      },
      "source": [
        "test_predictions = classifier_tfidf.predict(X_test_tfidf)\n",
        "test_pred_inversed = mlb.inverse_transform(test_predictions)\n",
        "\n",
        "test_predictions_for_submission = '\\n'.join('%i\\t%s' % (i, ','.join(row)) for i, row in enumerate(test_pred_inversed))\n",
        "grader.submit_tag('MultilabelClassification', test_predictions_for_submission)"
      ],
      "execution_count": null,
      "outputs": [
        {
          "output_type": "stream",
          "text": [
            "Current answer for task MultilabelClassification is:\n",
            " 0\tmysql,php\n",
            "1\thtml,javascript,jquery\n",
            "2\tpython\n",
            "3\tjavascript,jquery\n",
            "4\tandroid\n",
            "5\tphp,xml\n",
            "6\tjson,web-ser...\n"
          ],
          "name": "stdout"
        }
      ]
    },
    {
      "cell_type": "markdown",
      "metadata": {
        "id": "ik1RP0NoP2IN"
      },
      "source": [
        "#**Analysis of the most important features¶**\n",
        "Finally, it is usually a good idea to look at the features (words or n-grams) that are used with the largest weigths in your logistic regression model.\n",
        "\n",
        "Implement the function print_words_for_tag to find them. Get back to sklearn documentation on OneVsRestClassifier and LogisticRegression if needed."
      ]
    },
    {
      "cell_type": "code",
      "metadata": {
        "colab": {
          "base_uri": "https://localhost:8080/"
        },
        "id": "gpF5tkC3ctU9",
        "outputId": "0a3a063f-9cd2-4535-f0c2-77b93731fb0f"
      },
      "source": [
        "arr = np.array(mlb.classes)\n",
        "print(arr)\n",
        "result = np.where(arr == 'c')[0][0]\n",
        "print(result)"
      ],
      "execution_count": null,
      "outputs": [
        {
          "output_type": "stream",
          "text": [
            "['.net' 'ajax' 'algorithm' 'android' 'angularjs' 'apache' 'arrays'\n",
            " 'asp.net' 'asp.net-mvc' 'c' 'c#' 'c++' 'class' 'cocoa-touch'\n",
            " 'codeigniter' 'css' 'csv' 'database' 'date' 'datetime' 'django' 'dom'\n",
            " 'eclipse' 'entity-framework' 'excel' 'facebook' 'file' 'forms' 'function'\n",
            " 'generics' 'google-maps' 'hibernate' 'html' 'html5' 'image' 'ios'\n",
            " 'iphone' 'java' 'javascript' 'jquery' 'json' 'jsp' 'laravel' 'linq'\n",
            " 'linux' 'list' 'loops' 'maven' 'mongodb' 'multithreading' 'mysql'\n",
            " 'node.js' 'numpy' 'objective-c' 'oop' 'opencv' 'osx' 'pandas' 'parsing'\n",
            " 'performance' 'php' 'pointers' 'python' 'python-2.7' 'python-3.x' 'qt'\n",
            " 'r' 'regex' 'rest' 'ruby' 'ruby-on-rails' 'ruby-on-rails-3' 'selenium'\n",
            " 'servlets' 'session' 'sockets' 'sorting' 'spring' 'spring-mvc' 'sql'\n",
            " 'sql-server' 'string' 'swift' 'swing' 'twitter-bootstrap' 'uitableview'\n",
            " 'unit-testing' 'validation' 'vb.net' 'visual-studio' 'visual-studio-2010'\n",
            " 'wcf' 'web-services' 'windows' 'winforms' 'wordpress' 'wpf' 'xaml'\n",
            " 'xcode' 'xml']\n",
            "9\n"
          ],
          "name": "stdout"
        }
      ]
    },
    {
      "cell_type": "code",
      "metadata": {
        "id": "2WQPWOxBP8BN"
      },
      "source": [
        "def print_words_for_tag(classifier, tag, tags_classes, index_to_words, all_words):\n",
        "    \"\"\"\n",
        "        classifier: trained classifier\n",
        "        tag: particular tag\n",
        "        tags_classes: a list of classes names from MultiLabelBinarizer\n",
        "        index_to_words: index_to_words transformation\n",
        "        all_words: all words in the dictionary\n",
        "        \n",
        "        return nothing, just print top 5 positive and top 5 negative words for current tag\n",
        "    \"\"\"\n",
        "    print('Tag:\\t{}'.format(tag))\n",
        "    \n",
        "    # Extract an estimator from the classifier for the given tag.\n",
        "    # Extract feature coefficients from the estimator. \n",
        "    arr = np.array(tags_classes)\n",
        "    tag_index = np.where(arr == tag)[0][0]\n",
        "    \n",
        "    model = classifier.estimators_[tag_index]\n",
        "    top_positive_words = [index_to_words[x] for x in model.coef_.argsort().tolist()[0][-8:]]\n",
        "    top_negative_words = [index_to_words[x] for x in model.coef_.argsort().tolist()[0][:8]]\n",
        "\n",
        "    print('Top positive words:\\t{}'.format(', '.join(top_positive_words)))\n",
        "    print('Top negative words:\\t{}\\n'.format(', '.join(top_negative_words)))"
      ],
      "execution_count": null,
      "outputs": []
    },
    {
      "cell_type": "code",
      "metadata": {
        "colab": {
          "base_uri": "https://localhost:8080/"
        },
        "id": "UphN9k2cQhGp",
        "outputId": "f94b354f-9d3d-45b1-c617-13f97ef69205"
      },
      "source": [
        "print_words_for_tag(classifier_tfidf, 'c', mlb.classes_, tfidf_reversed_vocab, ALL_WORDS)\n",
        "print_words_for_tag(classifier_tfidf, 'c++', mlb.classes_, tfidf_reversed_vocab, ALL_WORDS)\n",
        "print_words_for_tag(classifier_tfidf, 'linux', mlb.classes_, tfidf_reversed_vocab, ALL_WORDS)\n",
        "print_words_for_tag(classifier_tfidf, 'python', mlb.classes_, tfidf_reversed_vocab, ALL_WORDS)\n",
        "print_words_for_tag(classifier_tfidf, 'r', mlb.classes_, tfidf_reversed_vocab, ALL_WORDS)\n",
        "print_words_for_tag(classifier_tfidf, 'java', mlb.classes_, tfidf_reversed_vocab, ALL_WORDS)"
      ],
      "execution_count": null,
      "outputs": [
        {
          "output_type": "stream",
          "text": [
            "Tag:\tc\n",
            "Top positive words:\topen url, fscanf, md5 hash, malloc, cc++, installing ruby, php call, c\n",
            "Top negative words:\tswift, php, javascript, ruby, java, according, objective c, nsstring\n",
            "\n",
            "Tag:\tc++\n",
            "Top positive words:\tboostasio, mfc, qt, using jni, stl, c++11, stdstring, c++\n",
            "Top negative words:\tphp, java, 3rd party, c++ stl, jquery, javascript, c#, django\n",
            "\n",
            "Tag:\tlinux\n",
            "Top positive words:\tdlopen, write simple, killed, identifier string, play services, simple calculator, kernel space, linux\n",
            "Top negative words:\taspnet, displaying, codeigniter, echo, javascript, python run, java heap, c#\n",
            "\n",
            "Tag:\tpython\n",
            "Top positive words:\tpythons, pyqt, matplotlib, beautifulsoup, tkinter, pandas, numpy, python\n",
            "Top negative words:\tphp, c#, unable import, use new, python pil, java, django python, way return\n",
            "\n",
            "Tag:\tr\n",
            "Top positive words:\tnas, rmarkdown, dplyr, rstudio, ggplot, shiny, ggplot2, r\n",
            "Top negative words:\tandroid, php, java, javascript, python, c++, c#, matplotlib\n",
            "\n",
            "Tag:\tjava\n",
            "Top positive words:\tjar, play framework, jsoup, spring, javafx, androidjava, hibernate, java\n",
            "Top negative words:\tundefined reference, php, visual studio, python, fields empty, rails, java script, ruby\n",
            "\n"
          ],
          "name": "stdout"
        }
      ]
    }
  ]
}