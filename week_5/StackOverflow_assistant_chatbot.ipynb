{
  "nbformat": 4,
  "nbformat_minor": 0,
  "metadata": {
    "colab": {
      "name": "StackOverflow assistant chatbot.ipynb",
      "provenance": [],
      "collapsed_sections": [],
      "authorship_tag": "ABX9TyOmHTRPfSgGlp0+ZaAzASlM"
    },
    "kernelspec": {
      "name": "python3",
      "display_name": "Python 3"
    },
    "language_info": {
      "name": "python"
    }
  },
  "cells": [
    {
      "cell_type": "markdown",
      "metadata": {
        "id": "xgdX-P6nomNd"
      },
      "source": [
        "# **Final project: StackOverflow assistant bot**\n",
        "In this project, we will combine everything we have learned about Natural Language Processing to construct a dialogue chat bot, which will be able to:\n",
        "\n",
        "* answer programming-related questions (using \n",
        "StackOverflow dataset);\n",
        "* chit-chat and simulate dialogue on all non programming-related questions.\n",
        "\n",
        "For a chit-chat mode we will use a pre-trained neural network engine available from [ChatterBot](https://github.com/gunthercox/ChatterBot). Those who aim at honor certificates for our course or are just curious, will train their own models for chit-chat."
      ]
    },
    {
      "cell_type": "markdown",
      "metadata": {
        "id": "bGTlIAtaq4-1"
      },
      "source": [
        "**Data description**\n",
        "\n",
        "To detect intent of users questions we will need two text collections:\n",
        "\n",
        "* `tagged_posts.tsv` — StackOverflow posts, tagged with one programming language (positive samples).\n",
        "* `dialogues.tsv` — dialogue phrases from movie subtitles (negative samples)."
      ]
    },
    {
      "cell_type": "code",
      "metadata": {
        "colab": {
          "base_uri": "https://localhost:8080/"
        },
        "id": "QC8wLwyzrS7C",
        "outputId": "a3b68e21-1fbc-457d-c1b5-ccf0a6f1262f"
      },
      "source": [
        "try:\n",
        "    import google.colab\n",
        "    IN_COLAB = True\n",
        "except:\n",
        "    IN_COLAB = False\n",
        "\n",
        "if IN_COLAB:\n",
        "    ! wget https://raw.githubusercontent.com/hse-aml/natural-language-processing/master/setup_google_colab.py -O setup_google_colab.py\n",
        "    import setup_google_colab\n",
        "    setup_google_colab.setup_project()\n",
        "\n",
        "import sys\n",
        "sys.path.append(\"..\")\n",
        "from common.download_utils import download_project_resources\n",
        "\n",
        "download_project_resources()"
      ],
      "execution_count": 1,
      "outputs": [
        {
          "output_type": "stream",
          "text": [
            "--2021-08-09 22:51:08--  https://raw.githubusercontent.com/hse-aml/natural-language-processing/master/setup_google_colab.py\n",
            "Resolving raw.githubusercontent.com (raw.githubusercontent.com)... 185.199.108.133, 185.199.110.133, 185.199.109.133, ...\n",
            "Connecting to raw.githubusercontent.com (raw.githubusercontent.com)|185.199.108.133|:443... connected.\n",
            "HTTP request sent, awaiting response... 200 OK\n",
            "Length: 1939 (1.9K) [text/plain]\n",
            "Saving to: ‘setup_google_colab.py’\n",
            "\n",
            "\rsetup_google_colab.   0%[                    ]       0  --.-KB/s               \rsetup_google_colab. 100%[===================>]   1.89K  --.-KB/s    in 0s      \n",
            "\n",
            "2021-08-09 22:51:08 (17.2 MB/s) - ‘setup_google_colab.py’ saved [1939/1939]\n",
            "\n",
            "File data/dialogues.tsv is already downloaded.\n",
            "File data/tagged_posts.tsv is already downloaded.\n"
          ],
          "name": "stdout"
        }
      ]
    },
    {
      "cell_type": "markdown",
      "metadata": {
        "id": "68ow2OJ-uJ1-"
      },
      "source": [
        "For those questions, that have programming-related intent, we will proceed as follow predict programming language (only one tag per question allowed here) and rank candidates within the tag using embeddings. For the ranking part, you will need:\n",
        "\n",
        "* `word_embeddings.tsv `— word embeddings, that you trained with StarSpace in the 3rd assignment. It's not a problem if you didn't do it, because we can offer an alternative solution for you.\n",
        "\n",
        "As a result of this notebook, you should obtain the following new objects that you will then use in the running bot:\n",
        "\n",
        "* `intent_recognizer.pkl` — intent recognition model;\n",
        "* `tag_classifier.pkl` — programming language classification model;\n",
        "* `tfidf_vectorizer.pkl` — vectorizer used during training;\n",
        "* `thread_embeddings_by_tags` — folder with thread embeddings, arranged by tags.\n",
        "\n",
        "Some functions will be reused by this notebook and the scripts, so we put them into utils.py file. Don't forget to open it and fill in the gaps!"
      ]
    },
    {
      "cell_type": "code",
      "metadata": {
        "id": "TpLCSGgYNtwO"
      },
      "source": [
        "!rm utils.py\n",
        "!rm dialogue_manager.py"
      ],
      "execution_count": 17,
      "outputs": []
    },
    {
      "cell_type": "code",
      "metadata": {
        "id": "qjlFQ4yPu3Hw"
      },
      "source": [
        "from utils import *\n",
        "from dialogue_manager import DialogueManager"
      ],
      "execution_count": 20,
      "outputs": []
    },
    {
      "cell_type": "code",
      "metadata": {
        "colab": {
          "base_uri": "https://localhost:8080/"
        },
        "id": "2wufG0xYJ8RM",
        "outputId": "32238b6e-3377-457c-ca0e-43bc9660c0b2"
      },
      "source": [
        "file = open('utils.py')\n",
        "lines = file. readlines()\n",
        "for line in lines:\n",
        "  print(line)"
      ],
      "execution_count": 21,
      "outputs": [
        {
          "output_type": "stream",
          "text": [
            "import nltk\n",
            "\n",
            "import pickle\n",
            "\n",
            "import re\n",
            "\n",
            "import numpy as np\n",
            "\n",
            "import csv\n",
            "\n",
            "\n",
            "\n",
            "nltk.download('stopwords')\n",
            "\n",
            "from nltk.corpus import stopwords\n",
            "\n",
            "\n",
            "\n",
            "# Paths for all resources for the bot.\n",
            "\n",
            "RESOURCE_PATH = {\n",
            "\n",
            "    'INTENT_RECOGNIZER': 'intent_recognizer.pkl',\n",
            "\n",
            "    'TAG_CLASSIFIER': 'tag_classifier.pkl',\n",
            "\n",
            "    'TFIDF_VECTORIZER': 'tfidf_vectorizer.pkl',\n",
            "\n",
            "    'THREAD_EMBEDDINGS_FOLDER': 'thread_embeddings_by_tags',\n",
            "\n",
            "    'WORD_EMBEDDINGS': 'data/word_embeddings.tsv',\n",
            "\n",
            "}\n",
            "\n",
            "\n",
            "\n",
            "\n",
            "\n",
            "def text_prepare(text):\n",
            "\n",
            "    \"\"\"Performs tokenization and simple preprocessing.\"\"\"\n",
            "\n",
            "    \n",
            "\n",
            "    replace_by_space_re = re.compile('[/(){}\\[\\]\\|@,;]')\n",
            "\n",
            "    bad_symbols_re = re.compile('[^0-9a-z #+_]')\n",
            "\n",
            "    stopwords_set = set(stopwords.words('english'))\n",
            "\n",
            "\n",
            "\n",
            "    text = text.lower()\n",
            "\n",
            "    text = replace_by_space_re.sub(' ', text)\n",
            "\n",
            "    text = bad_symbols_re.sub('', text)\n",
            "\n",
            "    text = ' '.join([x for x in text.split() if x and x not in stopwords_set])\n",
            "\n",
            "\n",
            "\n",
            "    return text.strip()\n",
            "\n",
            "\n",
            "\n",
            "\n",
            "\n",
            "def load_embeddings(embeddings_path):\n",
            "\n",
            "    \"\"\"Loads pre-trained word embeddings from tsv file.\n",
            "\n",
            "    Args:\n",
            "\n",
            "      embeddings_path - path to the embeddings file.\n",
            "\n",
            "    Returns:\n",
            "\n",
            "      embeddings - dict mapping words to vectors;\n",
            "\n",
            "      embeddings_dim - dimension of the vectors.\n",
            "\n",
            "    \"\"\"\n",
            "\n",
            "    # Note that here you also need to know the dimension of the loaded embeddings.\n",
            "\n",
            "    # When you load the embeddings, use numpy.float32 type as dtype\n",
            "\n",
            "    \n",
            "\n",
            "    embeddings={}\n",
            "\n",
            "    with open(embeddings_path,newline='') as embedding_obj:\n",
            "\n",
            "        lines=csv.reader(embedding_obj,delimiter='\\t')\n",
            "\n",
            "        for line in lines:\n",
            "\n",
            "            word=line[0]\n",
            "\n",
            "            embedding=np.array(line[1:]).astype(np.float32)\n",
            "\n",
            "            embeddings[word]=embedding\n",
            "\n",
            "        dim=len(line)-1\n",
            "\n",
            "    return embeddings,dim\n",
            "\n",
            "\n",
            "\n",
            "def question_to_vec(question, embeddings, dim):\n",
            "\n",
            "    \"\"\"Transforms a string to an embedding by averaging word embeddings.\"\"\"\n",
            "\n",
            "    \n",
            "\n",
            "    word_embedding=[embeddings[word] for word in question.split() if word in embeddings]\n",
            "\n",
            "    if not word_embedding:\n",
            "\n",
            "        return np.zeros(dim)\n",
            "\n",
            "    words_embeddings = np.array(word_embedding)\n",
            "\n",
            "    return np.mean(words_embeddings,axis=0)\n",
            "\n",
            "    \n",
            "\n",
            "def unpickle_file(filename):\n",
            "\n",
            "    \"\"\"Returns the result of unpickling the file content.\"\"\"\n",
            "\n",
            "    with open(filename, 'rb') as f:\n",
            "\n",
            "        return pickle.load(f)\n",
            "\n"
          ],
          "name": "stdout"
        }
      ]
    },
    {
      "cell_type": "code",
      "metadata": {
        "colab": {
          "base_uri": "https://localhost:8080/"
        },
        "id": "MvRjGSqfOI03",
        "outputId": "137b7f9f-ebc3-4a49-9de0-e79df4ab464f"
      },
      "source": [
        "file = open('dialogue_manager.py')\n",
        "lines = file. readlines()\n",
        "for line in lines:\n",
        "  print(line)"
      ],
      "execution_count": 22,
      "outputs": [
        {
          "output_type": "stream",
          "text": [
            "import os\n",
            "\n",
            "from sklearn.metrics.pairwise import pairwise_distances_argmin\n",
            "\n",
            "\n",
            "\n",
            "from chatterbot import ChatBot\n",
            "\n",
            "from chatterbot.trainers import ChatterBotCorpusTrainer\n",
            "\n",
            "from utils import *\n",
            "\n",
            "\n",
            "\n",
            "\n",
            "\n",
            "class ThreadRanker(object):\n",
            "\n",
            "\n",
            "\n",
            "    def __init__(self, paths):\n",
            "\n",
            "        self.word_embeddings, self.embeddings_dim = load_embeddings(paths['WORD_EMBEDDINGS'])\n",
            "\n",
            "        self.thread_embeddings_folder = paths['THREAD_EMBEDDINGS_FOLDER']\n",
            "\n",
            "\n",
            "\n",
            "    def __load_embeddings_by_tag(self, tag_name):\n",
            "\n",
            "        embeddings_path = os.path.join(self.thread_embeddings_folder, tag_name + \".pkl\")\n",
            "\n",
            "        thread_ids, thread_embeddings = unpickle_file(embeddings_path)\n",
            "\n",
            "        return thread_ids, thread_embeddings\n",
            "\n",
            "\n",
            "\n",
            "    def get_best_thread(self, question, tag_name):\n",
            "\n",
            "        \"\"\" Returns id of the most similar thread for the question.\n",
            "\n",
            "            The search is performed across the threads with a given tag.\n",
            "\n",
            "        \"\"\"\n",
            "\n",
            "        thread_ids, thread_embeddings = self.__load_embeddings_by_tag(tag_name)\n",
            "\n",
            "\n",
            "\n",
            "        # HINT: you have already implemented a similar routine in the 3rd assignment.\n",
            "\n",
            "        \n",
            "\n",
            "        question_vec = np.array(question_to_vec(question=question, embeddings=self.word_embeddings, dim=self.embeddings_dim)).reshape(-1,100)\n",
            "\n",
            "        best_thread = pairwise_distances_argmin(question_vec,thread_embeddings)[0]\n",
            "\n",
            "        \n",
            "\n",
            "        return thread_ids[best_thread]\n",
            "\n",
            "\n",
            "\n",
            "\n",
            "\n",
            "class DialogueManager(object):\n",
            "\n",
            "    def __init__(self, paths):\n",
            "\n",
            "        print(\"Loading resources...\")\n",
            "\n",
            "\n",
            "\n",
            "        # Intent recognition:\n",
            "\n",
            "        self.intent_recognizer = unpickle_file(paths['INTENT_RECOGNIZER'])\n",
            "\n",
            "        self.tfidf_vectorizer = unpickle_file(paths['TFIDF_VECTORIZER'])\n",
            "\n",
            "\n",
            "\n",
            "        self.ANSWER_TEMPLATE = 'I think its about %s\\nThis thread might help you: https://stackoverflow.com/questions/%s'\n",
            "\n",
            "\n",
            "\n",
            "        # Goal-oriented part:\n",
            "\n",
            "        self.tag_classifier = unpickle_file(paths['TAG_CLASSIFIER'])\n",
            "\n",
            "        self.thread_ranker = ThreadRanker(paths)\n",
            "\n",
            "        self.__init_chitchat_bot()\n",
            "\n",
            "\n",
            "\n",
            "    def __init_chitchat_bot(self):\n",
            "\n",
            "        \"\"\"Initializes self.chitchat_bot with some conversational model.\"\"\"\n",
            "\n",
            "\n",
            "\n",
            "        # Hint: you might want to create and train chatterbot.ChatBot here.\n",
            "\n",
            "        # Create an instance of the ChatBot class.\n",
            "\n",
            "        # Set a trainer set_trainer(ChatterBotCorpusTrainer) for the ChatBot.\n",
            "\n",
            "        # Train the ChatBot with \"chatterbot.corpus.english\" param.\n",
            "\n",
            "        # Note that we use chatterbot==0.7.6 in this project. \n",
            "\n",
            "        # You are welcome to experiment with other versions but they might have slightly different API.\n",
            "\n",
            "        \n",
            "\n",
            "        self.chitchat_bot = ChatBot(name='PyBot')\n",
            "\n",
            "        self.trainer = ChatterBotCorpusTrainer(self.chitchat_bot)\n",
            "\n",
            "        self.trainer.train(\"chatterbot.corpus.english\")\n",
            "\n",
            "       \n",
            "\n",
            "    def generate_answer(self, question):\n",
            "\n",
            "        \"\"\"Combines stackoverflow and chitchat parts using intent recognition.\"\"\"\n",
            "\n",
            "\n",
            "\n",
            "        # Recognize intent of the question using `intent_recognizer`.\n",
            "\n",
            "        # Don't forget to prepare question and calculate features for the question.\n",
            "\n",
            "        \n",
            "\n",
            "        prepared_question = text_prepare(question)\n",
            "\n",
            "        features = self.tfidf_vectorizer.transform([prepared_question])\n",
            "\n",
            "        intent = self.intent_recognizer.predict(features)[0]\n",
            "\n",
            "\n",
            "\n",
            "        # Chit-chat part:   \n",
            "\n",
            "        if intent == 'dialogue':\n",
            "\n",
            "            # Pass question to chitchat_bot to generate a response.       \n",
            "\n",
            "            response = self.chitchat_bot.get_response(question)\n",
            "\n",
            "            return response\n",
            "\n",
            "        \n",
            "\n",
            "        # Goal-oriented part:\n",
            "\n",
            "        else:        \n",
            "\n",
            "            # Pass features to tag_classifier to get predictions.\n",
            "\n",
            "            tag = self.tag_classifier.predict(features)[0]\n",
            "\n",
            "            \n",
            "\n",
            "            # Pass prepared_question to thread_ranker to get predictions.\n",
            "\n",
            "            thread_id = self.thread_ranker.get_best_thread(prepared_question,tag)\n",
            "\n",
            "            \n",
            "\n",
            "            return self.ANSWER_TEMPLATE % (tag, thread_id)\n",
            "\n"
          ],
          "name": "stdout"
        }
      ]
    },
    {
      "cell_type": "markdown",
      "metadata": {
        "id": "S6qjaNKlwn89"
      },
      "source": [
        "#**Part I. Intent and language recognition¶**\n",
        "\n",
        "We want to write a bot, which will not only **answer programming-related questions**, but also will be able to **maintain a dialogue**. We would also like to detect the intent of the user from the question (we could have had a 'Question answering mode' check-box in the bot, but it wouldn't fun at all, would it?). So the first thing we need to do is to **distinguish programming-related questions from general ones**.\n",
        "\n",
        "It would also be good to predict which programming language a particular question referees to. By doing so, we will speed up question search by a factor of the number of languages (10 here), and exercise our text classification skill a bit. :)"
      ]
    },
    {
      "cell_type": "code",
      "metadata": {
        "id": "t0xmcNGpNTsg"
      },
      "source": [
        "import numpy as np\n",
        "import pandas as pd\n",
        "import pickle\n",
        "import re\n",
        "\n",
        "from sklearn.feature_extraction.text import TfidfVectorizer"
      ],
      "execution_count": 2,
      "outputs": []
    },
    {
      "cell_type": "markdown",
      "metadata": {
        "id": "PRHRqJU7NVXw"
      },
      "source": [
        "**Data preparation**\n",
        "\n",
        "In the first assignment (Predict tags on StackOverflow with linear models), you have already learnt how to preprocess texts and do TF-IDF tranformations. Reuse your code here. In addition, you will also need to [dump](https://docs.python.org/3/library/pickle.html#pickle.dump) the TF-IDF vectorizer with pickle to use it later in the running bot."
      ]
    },
    {
      "cell_type": "code",
      "metadata": {
        "id": "b6uBpnD8NjUK"
      },
      "source": [
        "def tfidf_features(X_train, X_test, vectorizer_path):\n",
        "    \"\"\"Performs TF-IDF transformation and dumps the model.\"\"\"    \n",
        "    tfidf_vectorizer = TfidfVectorizer(\n",
        "        ngram_range = (1,2),\n",
        "        min_df = 5,\n",
        "        max_df = 0.9,\n",
        "        token_pattern = '(\\S+)'\n",
        "    )\n",
        "\n",
        "    # Train a vectorizer on X_train data.\n",
        "    tfidf_vectorizer.fit(X_train)\n",
        "\n",
        "    # Transform X_train and X_test data.\n",
        "    X_train = tfidf_vectorizer.transform(X_train)\n",
        "    X_test = tfidf_vectorizer.transform(X_test)\n",
        "\n",
        "    # Pickle the trained vectorizer to 'vectorizer_path'\n",
        "    # Don't forget to open the file in writing bytes mode.\n",
        "    vectorizer_file = open(vectorizer_path, 'wb')\n",
        "\n",
        "    pickle.dump(tfidf_vectorizer, vectorizer_file)\n",
        "    \n",
        "    return X_train, X_test"
      ],
      "execution_count": 4,
      "outputs": []
    },
    {
      "cell_type": "markdown",
      "metadata": {
        "id": "aqrTVTrOSZbv"
      },
      "source": [
        "Now, load examples of two classes. Use a subsample of stackoverflow data to balance the classes. You will need the full data later."
      ]
    },
    {
      "cell_type": "code",
      "metadata": {
        "id": "Sww-ikV3Sa0a"
      },
      "source": [
        "sample_size = 200000\n",
        "\n",
        "dialogue_df = pd.read_csv('data/dialogues.tsv', sep='\\t').sample(sample_size, random_state=0)\n",
        "stackoverflow_df = pd.read_csv('data/tagged_posts.tsv', sep='\\t').sample(sample_size, random_state=0)"
      ],
      "execution_count": 5,
      "outputs": []
    },
    {
      "cell_type": "markdown",
      "metadata": {
        "id": "SlcrG0iDSihr"
      },
      "source": [
        "\n",
        "Check how the data look like:"
      ]
    },
    {
      "cell_type": "code",
      "metadata": {
        "colab": {
          "base_uri": "https://localhost:8080/",
          "height": 204
        },
        "id": "uRx9lBrmSkuW",
        "outputId": "720eb6cd-4bfe-4b2a-cc0c-66af7bd58ff5"
      },
      "source": [
        "dialogue_df.head()"
      ],
      "execution_count": 6,
      "outputs": [
        {
          "output_type": "execute_result",
          "data": {
            "text/html": [
              "<div>\n",
              "<style scoped>\n",
              "    .dataframe tbody tr th:only-of-type {\n",
              "        vertical-align: middle;\n",
              "    }\n",
              "\n",
              "    .dataframe tbody tr th {\n",
              "        vertical-align: top;\n",
              "    }\n",
              "\n",
              "    .dataframe thead th {\n",
              "        text-align: right;\n",
              "    }\n",
              "</style>\n",
              "<table border=\"1\" class=\"dataframe\">\n",
              "  <thead>\n",
              "    <tr style=\"text-align: right;\">\n",
              "      <th></th>\n",
              "      <th>text</th>\n",
              "      <th>tag</th>\n",
              "    </tr>\n",
              "  </thead>\n",
              "  <tbody>\n",
              "    <tr>\n",
              "      <th>82925</th>\n",
              "      <td>Donna, you are a muffin.</td>\n",
              "      <td>dialogue</td>\n",
              "    </tr>\n",
              "    <tr>\n",
              "      <th>48774</th>\n",
              "      <td>He was here last night till about two o'clock....</td>\n",
              "      <td>dialogue</td>\n",
              "    </tr>\n",
              "    <tr>\n",
              "      <th>55394</th>\n",
              "      <td>All right, then make an appointment with her s...</td>\n",
              "      <td>dialogue</td>\n",
              "    </tr>\n",
              "    <tr>\n",
              "      <th>90806</th>\n",
              "      <td>Hey, what is this-an interview? We're supposed...</td>\n",
              "      <td>dialogue</td>\n",
              "    </tr>\n",
              "    <tr>\n",
              "      <th>107758</th>\n",
              "      <td>Yeah. He's just a friend of mine I was trying ...</td>\n",
              "      <td>dialogue</td>\n",
              "    </tr>\n",
              "  </tbody>\n",
              "</table>\n",
              "</div>"
            ],
            "text/plain": [
              "                                                     text       tag\n",
              "82925                            Donna, you are a muffin.  dialogue\n",
              "48774   He was here last night till about two o'clock....  dialogue\n",
              "55394   All right, then make an appointment with her s...  dialogue\n",
              "90806   Hey, what is this-an interview? We're supposed...  dialogue\n",
              "107758  Yeah. He's just a friend of mine I was trying ...  dialogue"
            ]
          },
          "metadata": {
            "tags": []
          },
          "execution_count": 6
        }
      ]
    },
    {
      "cell_type": "code",
      "metadata": {
        "colab": {
          "base_uri": "https://localhost:8080/",
          "height": 204
        },
        "id": "xSY1aZzuSomC",
        "outputId": "a49df6bd-60dc-43f4-986b-5ec0cfa778da"
      },
      "source": [
        "stackoverflow_df.head()"
      ],
      "execution_count": 7,
      "outputs": [
        {
          "output_type": "execute_result",
          "data": {
            "text/html": [
              "<div>\n",
              "<style scoped>\n",
              "    .dataframe tbody tr th:only-of-type {\n",
              "        vertical-align: middle;\n",
              "    }\n",
              "\n",
              "    .dataframe tbody tr th {\n",
              "        vertical-align: top;\n",
              "    }\n",
              "\n",
              "    .dataframe thead th {\n",
              "        text-align: right;\n",
              "    }\n",
              "</style>\n",
              "<table border=\"1\" class=\"dataframe\">\n",
              "  <thead>\n",
              "    <tr style=\"text-align: right;\">\n",
              "      <th></th>\n",
              "      <th>post_id</th>\n",
              "      <th>title</th>\n",
              "      <th>tag</th>\n",
              "    </tr>\n",
              "  </thead>\n",
              "  <tbody>\n",
              "    <tr>\n",
              "      <th>2168983</th>\n",
              "      <td>43837842</td>\n",
              "      <td>Efficient Algorithm to compose valid expressio...</td>\n",
              "      <td>python</td>\n",
              "    </tr>\n",
              "    <tr>\n",
              "      <th>1084095</th>\n",
              "      <td>15747223</td>\n",
              "      <td>Why does this basic thread program fail with C...</td>\n",
              "      <td>c_cpp</td>\n",
              "    </tr>\n",
              "    <tr>\n",
              "      <th>1049020</th>\n",
              "      <td>15189594</td>\n",
              "      <td>Link to scroll to top not working</td>\n",
              "      <td>javascript</td>\n",
              "    </tr>\n",
              "    <tr>\n",
              "      <th>200466</th>\n",
              "      <td>3273927</td>\n",
              "      <td>Is it possible to implement ping on windows ph...</td>\n",
              "      <td>c#</td>\n",
              "    </tr>\n",
              "    <tr>\n",
              "      <th>1200249</th>\n",
              "      <td>17684551</td>\n",
              "      <td>GLSL normal mapping issue</td>\n",
              "      <td>c_cpp</td>\n",
              "    </tr>\n",
              "  </tbody>\n",
              "</table>\n",
              "</div>"
            ],
            "text/plain": [
              "          post_id  ...         tag\n",
              "2168983  43837842  ...      python\n",
              "1084095  15747223  ...       c_cpp\n",
              "1049020  15189594  ...  javascript\n",
              "200466    3273927  ...          c#\n",
              "1200249  17684551  ...       c_cpp\n",
              "\n",
              "[5 rows x 3 columns]"
            ]
          },
          "metadata": {
            "tags": []
          },
          "execution_count": 7
        }
      ]
    },
    {
      "cell_type": "markdown",
      "metadata": {
        "id": "b9P1KECJUWzp"
      },
      "source": [
        "Apply *text_prepare* function to preprocess the data.\n",
        "\n",
        "If you filled in the file, but NotImplementedError is still displayed, please refer to [this thread](https://github.com/hse-aml/natural-language-processing/issues/27)."
      ]
    },
    {
      "cell_type": "code",
      "metadata": {
        "id": "F6QiXoRCVZ05"
      },
      "source": [
        "from utils import text_prepare"
      ],
      "execution_count": 8,
      "outputs": []
    },
    {
      "cell_type": "code",
      "metadata": {
        "id": "9EMCeRMHVdz1"
      },
      "source": [
        "dialogue_df['text'] = dialogue_df['text'].map(text_prepare)\n",
        "stackoverflow_df['title'] = stackoverflow_df['title'].map(text_prepare)"
      ],
      "execution_count": 9,
      "outputs": []
    },
    {
      "cell_type": "markdown",
      "metadata": {
        "id": "ADlx3b4eWAAi"
      },
      "source": [
        "# **Intent recognition**\n",
        "\n",
        "We will do a binary classification on TF-IDF representations of texts. Labels will be either `dialogue` for general questions or `stackoverflow` for programming-related questions. First, prepare the data for this task:\n",
        "\n",
        "* concatenate `dialogue` and `stackoverflow` examples into one sample\n",
        "* split it into train and test in proportion 9:1, use *random_state=0* for reproducibility\n",
        "* transform it into TF-IDF featuresIntent recognition"
      ]
    },
    {
      "cell_type": "code",
      "metadata": {
        "id": "5kIVGxDjWiOA"
      },
      "source": [
        "from sklearn.model_selection import train_test_split"
      ],
      "execution_count": 10,
      "outputs": []
    },
    {
      "cell_type": "code",
      "metadata": {
        "colab": {
          "base_uri": "https://localhost:8080/"
        },
        "id": "zy-w05rkWldF",
        "outputId": "a2bf54b6-ccc9-448c-86bb-3c6999546744"
      },
      "source": [
        "X = np.concatenate([dialogue_df['text'].values, stackoverflow_df['title'].values])\n",
        "y = ['dialogue'] * dialogue_df.shape[0] + ['stackoverflow'] * stackoverflow_df.shape[0]\n",
        "\n",
        "X_train, X_test, y_train, y_test = train_test_split(X, y, test_size=0.1, random_state=0)\n",
        "print('Train size = {}, test size = {}'.format(len(X_train), len(X_test)))\n",
        "\n",
        "X_train_tfidf, X_test_tfidf = tfidf_features(X_train, X_test,'./tfidf_vectorizer.pkl')"
      ],
      "execution_count": 11,
      "outputs": [
        {
          "output_type": "stream",
          "text": [
            "Train size = 360000, test size = 40000\n"
          ],
          "name": "stdout"
        }
      ]
    },
    {
      "cell_type": "code",
      "metadata": {
        "colab": {
          "base_uri": "https://localhost:8080/"
        },
        "id": "lJtF3SzgfEo1",
        "outputId": "cda07f4b-bf86-4f88-fa54-8c476ee71129"
      },
      "source": [
        "X_train_tfidf.shape"
      ],
      "execution_count": 12,
      "outputs": [
        {
          "output_type": "execute_result",
          "data": {
            "text/plain": [
              "(360000, 67481)"
            ]
          },
          "metadata": {
            "tags": []
          },
          "execution_count": 12
        }
      ]
    },
    {
      "cell_type": "code",
      "metadata": {
        "colab": {
          "base_uri": "https://localhost:8080/"
        },
        "id": "9a7RqMwRfNOv",
        "outputId": "ce43e03d-aeb6-413c-ae60-55547997e29b"
      },
      "source": [
        "X_test_tfidf.shape"
      ],
      "execution_count": 13,
      "outputs": [
        {
          "output_type": "execute_result",
          "data": {
            "text/plain": [
              "(40000, 67481)"
            ]
          },
          "metadata": {
            "tags": []
          },
          "execution_count": 13
        }
      ]
    },
    {
      "cell_type": "markdown",
      "metadata": {
        "id": "D_A7uwopYmF3"
      },
      "source": [
        "Train the **intent recognizer** using LogisticRegression on the train set with the following parameters: *penalty='l2', C=10, random_state=0*. Print out the accuracy on the test set to check whether everything looks good."
      ]
    },
    {
      "cell_type": "code",
      "metadata": {
        "id": "BMKl0k5sYuYl"
      },
      "source": [
        "from sklearn.linear_model import LogisticRegression\n",
        "from sklearn.metrics import accuracy_score"
      ],
      "execution_count": 14,
      "outputs": []
    },
    {
      "cell_type": "code",
      "metadata": {
        "colab": {
          "base_uri": "https://localhost:8080/"
        },
        "id": "gCAEEEbVYxJr",
        "outputId": "814e2d52-31b0-4813-a7d3-f840e18e2687"
      },
      "source": [
        "intent_recognizer=LogisticRegression(solver='newton-cg', C=10, penalty='l2', random_state=0)\n",
        "intent_recognizer.fit(X_train_tfidf, y_train)"
      ],
      "execution_count": 15,
      "outputs": [
        {
          "output_type": "execute_result",
          "data": {
            "text/plain": [
              "LogisticRegression(C=10, class_weight=None, dual=False, fit_intercept=True,\n",
              "                   intercept_scaling=1, l1_ratio=None, max_iter=100,\n",
              "                   multi_class='auto', n_jobs=None, penalty='l2',\n",
              "                   random_state=0, solver='newton-cg', tol=0.0001, verbose=0,\n",
              "                   warm_start=False)"
            ]
          },
          "metadata": {
            "tags": []
          },
          "execution_count": 15
        }
      ]
    },
    {
      "cell_type": "code",
      "metadata": {
        "colab": {
          "base_uri": "https://localhost:8080/"
        },
        "id": "UmugzgY3cHsL",
        "outputId": "3e67f0c3-67ac-4b38-981f-1766d0fa1b49"
      },
      "source": [
        "X_test_tfidf.shape"
      ],
      "execution_count": 16,
      "outputs": [
        {
          "output_type": "execute_result",
          "data": {
            "text/plain": [
              "(40000, 67481)"
            ]
          },
          "metadata": {
            "tags": []
          },
          "execution_count": 16
        }
      ]
    },
    {
      "cell_type": "code",
      "metadata": {
        "colab": {
          "base_uri": "https://localhost:8080/"
        },
        "id": "jM-dYCL4Zd7K",
        "outputId": "7c2e0d09-fe82-4615-8e84-dcc6cc88ccc4"
      },
      "source": [
        "# Check test accuracy.\n",
        "y_test_pred = intent_recognizer.predict(X_test_tfidf)\n",
        "test_accuracy = accuracy_score(y_test, y_test_pred)\n",
        "print('Test accuracy = {}'.format(test_accuracy))"
      ],
      "execution_count": 17,
      "outputs": [
        {
          "output_type": "stream",
          "text": [
            "Test accuracy = 0.991575\n"
          ],
          "name": "stdout"
        }
      ]
    },
    {
      "cell_type": "markdown",
      "metadata": {
        "id": "VvhBHWvVg0HP"
      },
      "source": [
        "Dump the classifier to use it in the running bot."
      ]
    },
    {
      "cell_type": "code",
      "metadata": {
        "id": "jLnFk6tig1lR"
      },
      "source": [
        "pickle.dump(intent_recognizer, open(RESOURCE_PATH['INTENT_RECOGNIZER'], 'wb'))"
      ],
      "execution_count": 18,
      "outputs": []
    },
    {
      "cell_type": "markdown",
      "metadata": {
        "id": "IlnVDKnBiDWe"
      },
      "source": [
        "**Programming language classification¶**\n",
        "\n",
        "We will train one more classifier for the programming-related questions. It will predict exactly one tag (=programming language) and will be also based on Logistic Regression with TF-IDF features.\n",
        "\n",
        "First, let us prepare the data for this task."
      ]
    },
    {
      "cell_type": "code",
      "metadata": {
        "id": "v8inLKMoiJ-T"
      },
      "source": [
        "X = stackoverflow_df['title'].values\n",
        "y = stackoverflow_df['tag'].values"
      ],
      "execution_count": 19,
      "outputs": []
    },
    {
      "cell_type": "code",
      "metadata": {
        "colab": {
          "base_uri": "https://localhost:8080/"
        },
        "id": "9A_gXkIPiORl",
        "outputId": "c6e19f72-a2fc-45d7-dd2e-0eb16b7d6fdd"
      },
      "source": [
        "X_train, X_test, y_train, y_test = train_test_split(X, y, test_size=0.2, random_state=0)\n",
        "print('Train size = {}, test size = {}'.format(len(X_train), len(X_test)))"
      ],
      "execution_count": 20,
      "outputs": [
        {
          "output_type": "stream",
          "text": [
            "Train size = 160000, test size = 40000\n"
          ],
          "name": "stdout"
        }
      ]
    },
    {
      "cell_type": "markdown",
      "metadata": {
        "id": "1ZQxaC_IiSHy"
      },
      "source": [
        "Let us reuse the TF-IDF vectorizer that we have already created above. It should not make a huge difference which data was used to train it."
      ]
    },
    {
      "cell_type": "code",
      "metadata": {
        "id": "I5bZLVI6iVVE"
      },
      "source": [
        "vectorizer = pickle.load(open(RESOURCE_PATH['TFIDF_VECTORIZER'], 'rb'))\n",
        "\n",
        "X_train_tfidf, X_test_tfidf = vectorizer.transform(X_train), vectorizer.transform(X_test)"
      ],
      "execution_count": 21,
      "outputs": []
    },
    {
      "cell_type": "markdown",
      "metadata": {
        "id": "YDWGgdIzigKp"
      },
      "source": [
        "\n",
        "Train the **tag classifier** using OneVsRestClassifier wrapper over LogisticRegression. Use the following parameters: *penalty='l2', C=5, random_state=0*."
      ]
    },
    {
      "cell_type": "code",
      "metadata": {
        "id": "J-TlolbjioqM"
      },
      "source": [
        "from sklearn.multiclass import OneVsRestClassifier"
      ],
      "execution_count": 22,
      "outputs": []
    },
    {
      "cell_type": "code",
      "metadata": {
        "colab": {
          "base_uri": "https://localhost:8080/"
        },
        "id": "I6mkSKggiqPX",
        "outputId": "b5e32775-b454-49fc-bbfc-577c09bb7760"
      },
      "source": [
        "tag_classifier = OneVsRestClassifier(LogisticRegression(solver='newton-cg', penalty=\"l2\", C=5, random_state=0))\n",
        "tag_classifier.fit(X_train_tfidf,y_train)"
      ],
      "execution_count": 23,
      "outputs": [
        {
          "output_type": "execute_result",
          "data": {
            "text/plain": [
              "OneVsRestClassifier(estimator=LogisticRegression(C=5, class_weight=None,\n",
              "                                                 dual=False, fit_intercept=True,\n",
              "                                                 intercept_scaling=1,\n",
              "                                                 l1_ratio=None, max_iter=100,\n",
              "                                                 multi_class='auto',\n",
              "                                                 n_jobs=None, penalty='l2',\n",
              "                                                 random_state=0,\n",
              "                                                 solver='newton-cg', tol=0.0001,\n",
              "                                                 verbose=0, warm_start=False),\n",
              "                    n_jobs=None)"
            ]
          },
          "metadata": {
            "tags": []
          },
          "execution_count": 23
        }
      ]
    },
    {
      "cell_type": "code",
      "metadata": {
        "colab": {
          "base_uri": "https://localhost:8080/"
        },
        "id": "zmejmfRCi8gM",
        "outputId": "c9e02476-504a-4928-a41c-ca198caa69ac"
      },
      "source": [
        "# Check test accuracy.\n",
        "y_test_pred = tag_classifier.predict(X_test_tfidf)\n",
        "test_accuracy = accuracy_score(y_test, y_test_pred)\n",
        "print('Test accuracy = {}'.format(test_accuracy))"
      ],
      "execution_count": 24,
      "outputs": [
        {
          "output_type": "stream",
          "text": [
            "Test accuracy = 0.8007\n"
          ],
          "name": "stdout"
        }
      ]
    },
    {
      "cell_type": "markdown",
      "metadata": {
        "id": "a__J8xxhi_SQ"
      },
      "source": [
        "\n",
        "Dump the classifier to use it in the running bot."
      ]
    },
    {
      "cell_type": "code",
      "metadata": {
        "id": "Y_e8l02GjAet"
      },
      "source": [
        "pickle.dump(tag_classifier, open(RESOURCE_PATH['TAG_CLASSIFIER'], 'wb'))"
      ],
      "execution_count": 25,
      "outputs": []
    },
    {
      "cell_type": "markdown",
      "metadata": {
        "id": "41DIcFGYjOKa"
      },
      "source": [
        "# **Part II. Ranking questions with embeddings¶**\n",
        "To find a relevant answer (a thread from StackOverflow) on a question you will use vector representations to calculate similarity between the question and existing threads. We already had `question_to_vec` function from the assignment 3, which can create such a representation based on word vectors.\n",
        "\n",
        "However, it would be costly to compute such a representation for all possible answers in *online mode* of the bot (e.g. when bot is running and answering questions from many users). This is the reason why you will create a database with pre-computed representations. These representations will be arranged by non-overlaping tags (programming languages), so that the search of the answer can be performed only within one tag each time. This will make our bot even more efficient and allow not to store all the database in RAM.\n",
        "\n",
        "Load StarSpace embeddings which were trained on Stack Overflow posts. These embeddings were trained in *supervised mode *for duplicates detection on the same corpus that is used in search. We can account on that these representations will allow us to find closely related answers for a question.\n",
        "\n",
        "If for some reasons you didn't train StarSpace embeddings in the assignment 3, you can use [pre-trained word vectors](https://code.google.com/archive/p/word2vec/) from Google. All instructions about how to work with these vectors were provided in the same assignment. However, we highly recommend to use StarSpace's embeddings, because it contains more appropriate embeddings. If you chose to use Google's embeddings, delete the words, which are not in Stackoverflow data."
      ]
    },
    {
      "cell_type": "code",
      "metadata": {
        "id": "o8yx-I87kA75"
      },
      "source": [
        "starspace_embeddings, embeddings_dim = load_embeddings('data/word_embeddings.tsv')"
      ],
      "execution_count": 6,
      "outputs": []
    },
    {
      "cell_type": "markdown",
      "metadata": {
        "id": "NZmK2IKO28v_"
      },
      "source": [
        "Since we want to precompute representations for all possible answers, we need to load the whole posts dataset, unlike we did for the intent classifier:"
      ]
    },
    {
      "cell_type": "code",
      "metadata": {
        "id": "AvPquhVh3AMJ"
      },
      "source": [
        "posts_df = pd.read_csv('data/tagged_posts.tsv', sep='\\t')"
      ],
      "execution_count": 7,
      "outputs": []
    },
    {
      "cell_type": "markdown",
      "metadata": {
        "id": "MaZDNOrf3lLC"
      },
      "source": [
        "Look at the distribution of posts for programming languages (tags) and find the most common ones. You might want to use pandas groupby and count methods:"
      ]
    },
    {
      "cell_type": "code",
      "metadata": {
        "id": "lr5k-t_H3fma"
      },
      "source": [
        "counts_by_tag = posts_df.groupby(\"tag\")[\"tag\"].count()"
      ],
      "execution_count": 8,
      "outputs": []
    },
    {
      "cell_type": "markdown",
      "metadata": {
        "id": "NyHNPTkd6TcC"
      },
      "source": [
        "Now for each tag you need to create two data structures, which will serve as online search index:\n",
        "\n",
        "* `tag_post_ids` — a list of post_ids with shape (`counts_by_tag[tag]`,). It will be needed to show the title and link to the thread;\n",
        "* `tag_vectors` — a matrix with shape (`counts_by_tag[tag]`, `embeddings_dim`) where embeddings for each answer are stored.\n",
        "\n",
        "Implement the code which will calculate the mentioned structures and dump it to files. It should take several minutes to compute it."
      ]
    },
    {
      "cell_type": "code",
      "metadata": {
        "id": "aZzEZKPR7Qvu"
      },
      "source": [
        "import os\n",
        "os.makedirs(RESOURCE_PATH['THREAD_EMBEDDINGS_FOLDER'], exist_ok=True)\n",
        "\n",
        "for tag, count in counts_by_tag.items():\n",
        "    tag_posts = posts_df[posts_df['tag'] == tag]\n",
        "    \n",
        "    tag_post_ids = tag_posts[\"post_id\"].tolist()\n",
        "    \n",
        "    tag_vectors = np.zeros((count, embeddings_dim), dtype=np.float32)\n",
        "    for i, title in enumerate(tag_posts['title']):\n",
        "        tag_vectors[i, :] = question_to_vec(question=title, embeddings=starspace_embeddings, dim=embeddings_dim) \n",
        "\n",
        "    # Dump post ids and vectors to a file.\n",
        "    filename = os.path.join(RESOURCE_PATH['THREAD_EMBEDDINGS_FOLDER'], os.path.normpath('%s.pkl' % tag))\n",
        "    pickle.dump((tag_post_ids, tag_vectors), open(filename, 'wb'))"
      ],
      "execution_count": 9,
      "outputs": []
    },
    {
      "cell_type": "markdown",
      "metadata": {
        "id": "2UQ0h_qBBgHP"
      },
      "source": [
        "# **Part III. Putting all together¶**\n",
        "\n",
        "Now let's combine everything that we have done and enable the bot to maintain a dialogue. We will teach the bot to sequentially determine the intent and, depending on the intent, select the best answer. As soon as we do this, we will have the opportunity to chat with the bot and check how well it answers questions.\n",
        "\n",
        "Implement Dialogue Manager that will generate the best answer. In order to do this, you should open *dialogue_manager.py* and fill in the gaps."
      ]
    },
    {
      "cell_type": "code",
      "metadata": {
        "colab": {
          "base_uri": "https://localhost:8080/"
        },
        "id": "Q4gEhdK_Vtzd",
        "outputId": "72d9e546-d13c-47e1-bbe9-458b66ec7bd6"
      },
      "source": [
        "!pip install chatterbot"
      ],
      "execution_count": 1,
      "outputs": [
        {
          "output_type": "stream",
          "text": [
            "Requirement already satisfied: chatterbot in /usr/local/lib/python3.7/dist-packages (1.0.8)\n",
            "Requirement already satisfied: pytz in /usr/local/lib/python3.7/dist-packages (from chatterbot) (2018.9)\n",
            "Requirement already satisfied: mathparse<0.2,>=0.1 in /usr/local/lib/python3.7/dist-packages (from chatterbot) (0.1.2)\n",
            "Requirement already satisfied: sqlalchemy<1.4,>=1.3 in /usr/local/lib/python3.7/dist-packages (from chatterbot) (1.3.24)\n",
            "Requirement already satisfied: python-dateutil<2.9,>=2.8 in /usr/local/lib/python3.7/dist-packages (from chatterbot) (2.8.1)\n",
            "Requirement already satisfied: six>=1.5 in /usr/local/lib/python3.7/dist-packages (from python-dateutil<2.9,>=2.8->chatterbot) (1.16.0)\n"
          ],
          "name": "stdout"
        }
      ]
    },
    {
      "cell_type": "code",
      "metadata": {
        "colab": {
          "base_uri": "https://localhost:8080/"
        },
        "id": "zizB_Mv-VvxA",
        "outputId": "be0ffe3b-5304-4c72-d1b8-708da06676e3"
      },
      "source": [
        "!pip install chatterbot_corpus"
      ],
      "execution_count": 2,
      "outputs": [
        {
          "output_type": "stream",
          "text": [
            "Requirement already satisfied: chatterbot_corpus in /usr/local/lib/python3.7/dist-packages (1.2.0)\n",
            "Requirement already satisfied: PyYAML<4.0,>=3.12 in /usr/local/lib/python3.7/dist-packages (from chatterbot_corpus) (3.13)\n"
          ],
          "name": "stdout"
        }
      ]
    },
    {
      "cell_type": "code",
      "metadata": {
        "colab": {
          "base_uri": "https://localhost:8080/"
        },
        "id": "y8TAnooSPrJ5",
        "outputId": "694f5af9-b723-4f00-f518-3bb3463a180b"
      },
      "source": [
        "from utils import *"
      ],
      "execution_count": 3,
      "outputs": [
        {
          "output_type": "stream",
          "text": [
            "[nltk_data] Downloading package stopwords to /root/nltk_data...\n",
            "[nltk_data]   Package stopwords is already up-to-date!\n"
          ],
          "name": "stdout"
        }
      ]
    },
    {
      "cell_type": "code",
      "metadata": {
        "id": "WH0l0HK0EV7Q"
      },
      "source": [
        "from dialogue_manager import DialogueManager"
      ],
      "execution_count": 4,
      "outputs": []
    },
    {
      "cell_type": "code",
      "metadata": {
        "colab": {
          "base_uri": "https://localhost:8080/"
        },
        "id": "ZjL90hhAHf5Z",
        "outputId": "8005c14a-f76b-4883-ecbc-8029aeee1a02"
      },
      "source": [
        "dialogue_manager = DialogueManager(RESOURCE_PATH)"
      ],
      "execution_count": 5,
      "outputs": [
        {
          "output_type": "stream",
          "text": [
            "Loading resources...\n",
            "\n",
            "Training botprofile.yml: [####################] 100%\n",
            "Training computers.yml: [####################] 100%\n",
            "Training conversations.yml: [####################] 100%\n",
            "Training emotion.yml: [####################] 100%\n",
            "Training food.yml: [####################] 100%\n",
            "Training gossip.yml: [####################] 100%\n",
            "Training greetings.yml: [####################] 100%\n",
            "Training health.yml: [####################] 100%\n",
            "Training history.yml: [####################] 100%\n",
            "Training humor.yml: [####################] 100%\n",
            "Training literature.yml: [####################] 100%\n",
            "Training money.yml: [####################] 100%\n",
            "Training movies.yml: [####################] 100%\n",
            "Training politics.yml: [####################] 100%\n",
            "Training psychology.yml: [####################] 100%\n",
            "Training science.yml: [####################] 100%\n",
            "Training sports.yml: [####################] 100%\n",
            "Training trivia.yml: [####################] 100%\n"
          ],
          "name": "stdout"
        }
      ]
    },
    {
      "cell_type": "markdown",
      "metadata": {
        "id": "2_Y6e7PwZ5k7"
      },
      "source": [
        "Now we are ready to test our chat bot! Let's chat with the bot and ask it some questions. Check that the answers are reasonable."
      ]
    },
    {
      "cell_type": "code",
      "metadata": {
        "colab": {
          "base_uri": "https://localhost:8080/"
        },
        "id": "cnTfIVJIZ6ew",
        "outputId": "c6c94e3c-b8b0-4805-d7be-0e913d209a71"
      },
      "source": [
        "questions = [\n",
        "    \"Hey\", \n",
        "    \"How are you doing?\", \n",
        "    \"What's your hobby?\", \n",
        "    \"How to write a loop in python?\",\n",
        "    \"How to delete rows in pandas?\",\n",
        "    \"python3 re\",\n",
        "    \"What is the difference between c and c++\",\n",
        "    \"Multithreading in Java\",\n",
        "    \"Catch exceptions C++\",\n",
        "    \"What is AI?\",\n",
        "]\n",
        "\n",
        "for question in questions:\n",
        "    answer = dialogue_manager.generate_answer(question)\n",
        "    print('Q: %s\\nA: %s \\n' % (question, answer))"
      ],
      "execution_count": 6,
      "outputs": [
        {
          "output_type": "stream",
          "text": [
            "Q: Hey\n",
            "A: What a thing to say to another being. \n",
            "\n",
            "Q: How are you doing?\n",
            "A: I am doing well. \n",
            "\n",
            "Q: What's your hobby?\n",
            "A: Playing Soccer, Painting, Writing are my hobbies. How about you? \n",
            "\n",
            "Q: How to write a loop in python?\n",
            "A: I think its about python\n",
            "This thread might help you: https://stackoverflow.com/questions/337 \n",
            "\n",
            "Q: How to delete rows in pandas?\n",
            "A: I think its about python\n",
            "This thread might help you: https://stackoverflow.com/questions/337 \n",
            "\n",
            "Q: python3 re\n",
            "A: I think its about python\n",
            "This thread might help you: https://stackoverflow.com/questions/337 \n",
            "\n",
            "Q: What is the difference between c and c++\n",
            "A: I think its about c_cpp\n",
            "This thread might help you: https://stackoverflow.com/questions/263 \n",
            "\n",
            "Q: Multithreading in Java\n",
            "A: I think its about java\n",
            "This thread might help you: https://stackoverflow.com/questions/564 \n",
            "\n",
            "Q: Catch exceptions C++\n",
            "A: I think its about c_cpp\n",
            "This thread might help you: https://stackoverflow.com/questions/263 \n",
            "\n",
            "Q: What is AI?\n",
            "A: I think its about java\n",
            "This thread might help you: https://stackoverflow.com/questions/30362773 \n",
            "\n"
          ],
          "name": "stdout"
        }
      ]
    },
    {
      "cell_type": "code",
      "metadata": {
        "colab": {
          "base_uri": "https://localhost:8080/"
        },
        "id": "8ZzwNtRsdPhK",
        "outputId": "be51b4ae-3fca-4bf6-8fc8-3fd5f6189341"
      },
      "source": [
        "!zip -r /content/content.zip /content/"
      ],
      "execution_count": 10,
      "outputs": [
        {
          "output_type": "stream",
          "text": [
            "  adding: content/ (stored 0%)\n",
            "  adding: content/.config/ (stored 0%)\n",
            "  adding: content/.config/active_config (stored 0%)\n",
            "  adding: content/.config/configurations/ (stored 0%)\n",
            "  adding: content/.config/configurations/config_default (deflated 15%)\n",
            "  adding: content/.config/.last_survey_prompt.yaml (stored 0%)\n",
            "  adding: content/.config/logs/ (stored 0%)\n",
            "  adding: content/.config/logs/2021.07.16/ (stored 0%)\n",
            "  adding: content/.config/logs/2021.07.16/13.19.42.311157.log (deflated 54%)\n",
            "  adding: content/.config/logs/2021.07.16/13.20.21.584309.log (deflated 55%)\n",
            "  adding: content/.config/logs/2021.07.16/13.20.22.328313.log (deflated 54%)\n",
            "  adding: content/.config/logs/2021.07.16/13.20.04.172291.log (deflated 54%)\n",
            "  adding: content/.config/logs/2021.07.16/13.19.23.269640.log (deflated 91%)\n",
            "  adding: content/.config/logs/2021.07.16/13.19.58.237112.log (deflated 86%)\n",
            "  adding: content/.config/config_sentinel (stored 0%)\n",
            "  adding: content/.config/gce (stored 0%)\n",
            "  adding: content/.config/.last_update_check.json (deflated 22%)\n",
            "  adding: content/.config/.last_opt_in_prompt.yaml (stored 0%)\n",
            "  adding: content/data.zip (stored 0%)\n",
            "  adding: content/db.sqlite3 (deflated 71%)\n",
            "  adding: content/tfidf_vectorizer.pkl (deflated 57%)\n",
            "  adding: content/db.sqlite3-shm (deflated 100%)\n",
            "  adding: content/__pycache__/ (stored 0%)\n",
            "  adding: content/__pycache__/utils.cpython-37.pyc (deflated 40%)\n",
            "  adding: content/__pycache__/dialogue_manager.cpython-37.pyc (deflated 46%)\n",
            "  adding: content/__pycache__/setup_google_colab.cpython-37.pyc (deflated 56%)\n",
            "  adding: content/setup_google_colab.py (deflated 68%)\n",
            "  adding: content/data/ (stored 0%)\n",
            "  adding: content/data/dialogues.tsv (deflated 65%)\n",
            "  adding: content/data/word_embeddings.tsv (deflated 62%)\n",
            "  adding: content/data/.ipynb_checkpoints/ (stored 0%)\n",
            "  adding: content/data/tagged_posts.tsv (deflated 61%)\n",
            "  adding: content/Starspace/ (stored 0%)\n",
            "  adding: content/Starspace/makefile (deflated 71%)\n",
            "  adding: content/Starspace/LICENSE.md (deflated 41%)\n",
            "  adding: content/Starspace/parser.o (deflated 81%)\n",
            "  adding: content/Starspace/makefile_py (deflated 72%)\n",
            "  adding: content/Starspace/.gitignore (deflated 42%)\n",
            "  adding: content/Starspace/python/ (stored 0%)\n",
            "  adding: content/Starspace/python/build.sh (deflated 59%)\n",
            "  adding: content/Starspace/python/conanfile.txt (stored 0%)\n",
            "  adding: content/Starspace/python/CMakeLists.txt (deflated 60%)\n",
            "  adding: content/Starspace/python/test/ (stored 0%)\n",
            "  adding: content/Starspace/python/test/test_predictTags.py (deflated 48%)\n",
            "  adding: content/Starspace/python/test/test.py (deflated 48%)\n",
            "  adding: content/Starspace/python/test/tagged_post.txt (deflated 62%)\n",
            "  adding: content/Starspace/python/test/input.txt (deflated 64%)\n",
            "  adding: content/Starspace/python/README.md (deflated 47%)\n",
            "  adding: content/Starspace/python/starspace_pybind.cc (deflated 76%)\n",
            "  adding: content/Starspace/utils.o (deflated 69%)\n",
            "  adding: content/Starspace/CONTRIBUTING.md (deflated 45%)\n",
            "  adding: content/Starspace/doc_parser.o (deflated 80%)\n",
            "  adding: content/Starspace/dict.o (deflated 80%)\n",
            "  adding: content/Starspace/model.o (deflated 80%)\n",
            "  adding: content/Starspace/CODE_OF_CONDUCT.md (deflated 32%)\n",
            "  adding: content/Starspace/doc_data.o (deflated 80%)\n",
            "  adding: content/Starspace/data.o (deflated 82%)\n",
            "  adding: content/Starspace/examples/ (stored 0%)\n",
            "  adding: content/Starspace/examples/tagspace.png (deflated 2%)\n",
            "  adding: content/Starspace/examples/user-doc.png (deflated 4%)\n",
            "  adding: content/Starspace/examples/multi_relation_example.sh (deflated 58%)\n",
            "  adding: content/Starspace/examples/wikipedia_article_search.sh (deflated 59%)\n",
            "  adding: content/Starspace/examples/new2.gif (deflated 27%)\n",
            "  adding: content/Starspace/examples/wikipedia_sentence_matching.sh (deflated 61%)\n",
            "  adding: content/Starspace/examples/classification_ag_news.sh (deflated 57%)\n",
            "  adding: content/Starspace/examples/multi-relations.png (deflated 2%)\n",
            "  adding: content/Starspace/examples/wikipedia_article_search_full.sh (deflated 60%)\n",
            "  adding: content/Starspace/examples/README.md (deflated 6%)\n",
            "  adding: content/Starspace/examples/recomm_user_artists.sh (deflated 62%)\n",
            "  adding: content/Starspace/examples/sentences.png (deflated 4%)\n",
            "  adding: content/Starspace/examples/wikipedia_sentence_matching_full.sh (deflated 62%)\n",
            "  adding: content/Starspace/examples/starspace.png (deflated 1%)\n",
            "  adding: content/Starspace/examples/user-page.png (deflated 2%)\n",
            "  adding: content/Starspace/examples/image_feature_example_cifar10.sh (deflated 57%)\n",
            "  adding: content/Starspace/starspace.o (deflated 81%)\n",
            "  adding: content/Starspace/MVS/ (stored 0%)\n",
            "  adding: content/Starspace/MVS/print_ngrams/ (stored 0%)\n",
            "  adding: content/Starspace/MVS/print_ngrams/print_ngrams.vcxproj (deflated 88%)\n",
            "  adding: content/Starspace/MVS/print_ngrams/print_ngrams.vcxproj.filters (deflated 50%)\n",
            "  adding: content/Starspace/MVS/StarSpaceLib.vcxproj.filters (deflated 80%)\n",
            "  adding: content/Starspace/MVS/query_nn/ (stored 0%)\n",
            "  adding: content/Starspace/MVS/query_nn/query_nn.vcxproj.filters (deflated 50%)\n",
            "  adding: content/Starspace/MVS/query_nn/query_nn.vcxproj (deflated 88%)\n",
            "  adding: content/Starspace/MVS/embed_doc/ (stored 0%)\n",
            "  adding: content/Starspace/MVS/embed_doc/embed_doc.vcxproj (deflated 88%)\n",
            "  adding: content/Starspace/MVS/embed_doc/embed_doc.vcxproj.filters (deflated 50%)\n",
            "  adding: content/Starspace/MVS/StarSpaceLib.vcxproj (deflated 87%)\n",
            "  adding: content/Starspace/MVS/matrix_test/ (stored 0%)\n",
            "  adding: content/Starspace/MVS/matrix_test/matrix_test.vcxproj (deflated 88%)\n",
            "  adding: content/Starspace/MVS/matrix_test/matrix_test.vcxproj.filters (deflated 50%)\n",
            "  adding: content/Starspace/MVS/query_predict/ (stored 0%)\n",
            "  adding: content/Starspace/MVS/query_predict/query_predict.vcxproj.filters (deflated 50%)\n",
            "  adding: content/Starspace/MVS/query_predict/query_predict.vcxproj (deflated 88%)\n",
            "  adding: content/Starspace/MVS/proj_test/ (stored 0%)\n",
            "  adding: content/Starspace/MVS/proj_test/proj_test.vcxproj.filters (deflated 50%)\n",
            "  adding: content/Starspace/MVS/proj_test/proj_test.vcxproj (deflated 88%)\n",
            "  adding: content/Starspace/MVS/starspace/ (stored 0%)\n",
            "  adding: content/Starspace/MVS/starspace/starspace.vcxproj (deflated 88%)\n",
            "  adding: content/Starspace/MVS/starspace/starspace.vcxproj.filters (deflated 50%)\n",
            "  adding: content/Starspace/MVS/StarSpace.sln (deflated 86%)\n",
            "  adding: content/Starspace/proj.o (deflated 69%)\n",
            "  adding: content/Starspace/README.md (deflated 68%)\n",
            "  adding: content/Starspace/.git/ (stored 0%)\n",
            "  adding: content/Starspace/.git/info/ (stored 0%)\n",
            "  adding: content/Starspace/.git/info/exclude (deflated 28%)\n",
            "  adding: content/Starspace/.git/index (deflated 53%)\n",
            "  adding: content/Starspace/.git/description (deflated 14%)\n",
            "  adding: content/Starspace/.git/branches/ (stored 0%)\n",
            "  adding: content/Starspace/.git/logs/ (stored 0%)\n",
            "  adding: content/Starspace/.git/logs/refs/ (stored 0%)\n",
            "  adding: content/Starspace/.git/logs/refs/heads/ (stored 0%)\n",
            "  adding: content/Starspace/.git/logs/refs/heads/master (deflated 28%)\n",
            "  adding: content/Starspace/.git/logs/refs/remotes/ (stored 0%)\n",
            "  adding: content/Starspace/.git/logs/refs/remotes/origin/ (stored 0%)\n",
            "  adding: content/Starspace/.git/logs/refs/remotes/origin/HEAD (deflated 28%)\n",
            "  adding: content/Starspace/.git/logs/HEAD (deflated 28%)\n",
            "  adding: content/Starspace/.git/objects/ (stored 0%)\n",
            "  adding: content/Starspace/.git/objects/info/ (stored 0%)\n",
            "  adding: content/Starspace/.git/objects/pack/ (stored 0%)\n",
            "  adding: content/Starspace/.git/objects/pack/pack-6a59357ecd56e93c14f4f9a1986b7589630f2f11.idx (deflated 3%)\n",
            "  adding: content/Starspace/.git/objects/pack/pack-6a59357ecd56e93c14f4f9a1986b7589630f2f11.pack (deflated 1%)\n",
            "  adding: content/Starspace/.git/config (deflated 34%)\n",
            "  adding: content/Starspace/.git/packed-refs (deflated 44%)\n",
            "  adding: content/Starspace/.git/hooks/ (stored 0%)\n",
            "  adding: content/Starspace/.git/hooks/pre-receive.sample (deflated 40%)\n",
            "  adding: content/Starspace/.git/hooks/prepare-commit-msg.sample (deflated 50%)\n",
            "  adding: content/Starspace/.git/hooks/fsmonitor-watchman.sample (deflated 53%)\n",
            "  adding: content/Starspace/.git/hooks/pre-rebase.sample (deflated 59%)\n",
            "  adding: content/Starspace/.git/hooks/update.sample (deflated 68%)\n",
            "  adding: content/Starspace/.git/hooks/pre-push.sample (deflated 50%)\n",
            "  adding: content/Starspace/.git/hooks/pre-applypatch.sample (deflated 38%)\n",
            "  adding: content/Starspace/.git/hooks/applypatch-msg.sample (deflated 42%)\n",
            "  adding: content/Starspace/.git/hooks/pre-commit.sample (deflated 43%)\n",
            "  adding: content/Starspace/.git/hooks/commit-msg.sample (deflated 44%)\n",
            "  adding: content/Starspace/.git/hooks/post-update.sample (deflated 27%)\n",
            "  adding: content/Starspace/.git/refs/ (stored 0%)\n",
            "  adding: content/Starspace/.git/refs/tags/ (stored 0%)\n",
            "  adding: content/Starspace/.git/refs/heads/ (stored 0%)\n",
            "  adding: content/Starspace/.git/refs/heads/master (stored 0%)\n",
            "  adding: content/Starspace/.git/refs/remotes/ (stored 0%)\n",
            "  adding: content/Starspace/.git/refs/remotes/origin/ (stored 0%)\n",
            "  adding: content/Starspace/.git/refs/remotes/origin/HEAD (stored 0%)\n",
            "  adding: content/Starspace/.git/HEAD (stored 0%)\n",
            "  adding: content/Starspace/src/ (stored 0%)\n",
            "  adding: content/Starspace/src/apps/ (stored 0%)\n",
            "  adding: content/Starspace/src/apps/query_nn.cpp (deflated 45%)\n",
            "  adding: content/Starspace/src/apps/print_ngrams.cpp (deflated 44%)\n",
            "  adding: content/Starspace/src/apps/query_predict.cpp (deflated 50%)\n",
            "  adding: content/Starspace/src/apps/embed_doc.cpp (deflated 49%)\n",
            "  adding: content/Starspace/src/proj.cpp (deflated 26%)\n",
            "  adding: content/Starspace/src/doc_parser.h (deflated 49%)\n",
            "  adding: content/Starspace/src/doc_parser.cpp (deflated 61%)\n",
            "  adding: content/Starspace/src/data.h (deflated 62%)\n",
            "  adding: content/Starspace/src/model.h (deflated 71%)\n",
            "  adding: content/Starspace/src/dict.cpp (deflated 68%)\n",
            "  adding: content/Starspace/src/test/ (stored 0%)\n",
            "  adding: content/Starspace/src/test/proj_test.cpp (deflated 55%)\n",
            "  adding: content/Starspace/src/test/matrix_test.cpp (deflated 59%)\n",
            "  adding: content/Starspace/src/model.cpp (deflated 72%)\n",
            "  adding: content/Starspace/src/parser.h (deflated 62%)\n",
            "  adding: content/Starspace/src/matrix.h (deflated 70%)\n",
            "  adding: content/Starspace/src/utils/ (stored 0%)\n",
            "  adding: content/Starspace/src/utils/normalize.cpp (deflated 51%)\n",
            "  adding: content/Starspace/src/utils/utils.cpp (deflated 30%)\n",
            "  adding: content/Starspace/src/utils/normalize.h (deflated 31%)\n",
            "  adding: content/Starspace/src/utils/args.h (deflated 60%)\n",
            "  adding: content/Starspace/src/utils/args.cpp (deflated 78%)\n",
            "  adding: content/Starspace/src/utils/utils.h (deflated 62%)\n",
            "  adding: content/Starspace/src/proj.h (deflated 63%)\n",
            "  adding: content/Starspace/src/data.cpp (deflated 72%)\n",
            "  adding: content/Starspace/src/doc_data.cpp (deflated 71%)\n",
            "  adding: content/Starspace/src/starspace.h (deflated 65%)\n",
            "  adding: content/Starspace/src/parser.cpp (deflated 71%)\n",
            "  adding: content/Starspace/src/doc_data.h (deflated 53%)\n",
            "  adding: content/Starspace/src/starspace.cpp (deflated 70%)\n",
            "  adding: content/Starspace/src/main.cpp (deflated 58%)\n",
            "  adding: content/Starspace/src/dict.h (deflated 61%)\n",
            "  adding: content/Starspace/3rdparty/ (stored 0%)\n",
            "  adding: content/Starspace/3rdparty/gzip.cpp (deflated 76%)\n",
            "  adding: content/Starspace/3rdparty/zlib.cpp (deflated 69%)\n",
            "  adding: content/Starspace/3rdparty/zlib.h (deflated 73%)\n",
            "  adding: content/Starspace/starspace (deflated 70%)\n",
            "  adding: content/Starspace/makefile_compress (deflated 71%)\n",
            "  adding: content/Starspace/normalize.o (deflated 73%)\n",
            "  adding: content/Starspace/args.o (deflated 83%)\n",
            "  adding: content/db.sqlite3-wal (deflated 90%)\n",
            "  adding: content/tag_classifier.pkl (deflated 46%)\n",
            "  adding: content/thread_embeddings_by_tags/ (stored 0%)\n",
            "  adding: content/thread_embeddings_by_tags/vb.pkl (deflated 83%)\n",
            "  adding: content/thread_embeddings_by_tags/swift.pkl (deflated 81%)\n",
            "  adding: content/thread_embeddings_by_tags/c#.pkl (deflated 82%)\n",
            "  adding: content/thread_embeddings_by_tags/javascript.pkl (deflated 81%)\n",
            "  adding: content/thread_embeddings_by_tags/r.pkl (deflated 67%)\n",
            "  adding: content/thread_embeddings_by_tags/php.pkl (deflated 80%)\n",
            "  adding: content/thread_embeddings_by_tags/python.pkl (deflated 74%)\n",
            "  adding: content/thread_embeddings_by_tags/c_cpp.pkl (deflated 76%)\n",
            "  adding: content/thread_embeddings_by_tags/ruby.pkl (deflated 74%)\n",
            "  adding: content/thread_embeddings_by_tags/java.pkl (deflated 80%)\n",
            "  adding: content/.ipynb_checkpoints/ (stored 0%)\n",
            "  adding: content/common/ (stored 0%)\n",
            "  adding: content/common/download_utils.py (deflated 66%)\n",
            "  adding: content/common/tqdm_utils.py (deflated 64%)\n",
            "  adding: content/common/__pycache__/ (stored 0%)\n",
            "  adding: content/common/__pycache__/download_utils.cpython-37.pyc (deflated 45%)\n",
            "  adding: content/common/__pycache__/__init__.cpython-37.pyc (deflated 26%)\n",
            "  adding: content/common/__pycache__/tqdm_utils.cpython-37.pyc (deflated 50%)\n",
            "  adding: content/common/__init__.py (stored 0%)\n",
            "  adding: content/common/requirements_colab.txt (deflated 24%)\n",
            "  adding: content/utils.py (deflated 55%)\n",
            "  adding: content/dialogue_manager.py (deflated 64%)\n",
            "  adding: content/intent_recognizer.pkl (deflated 4%)\n",
            "  adding: content/thread_embeddings_by_tags.zip (stored 0%)\n",
            "  adding: content/sample_data/ (stored 0%)\n",
            "  adding: content/sample_data/anscombe.json (deflated 83%)\n",
            "  adding: content/sample_data/README.md (deflated 42%)\n",
            "  adding: content/sample_data/mnist_train_small.csv (deflated 88%)\n",
            "  adding: content/sample_data/california_housing_train.csv (deflated 79%)\n",
            "  adding: content/sample_data/california_housing_test.csv (deflated 76%)\n",
            "  adding: content/sample_data/mnist_test.csv (deflated 88%)\n"
          ],
          "name": "stdout"
        }
      ]
    }
  ]
}